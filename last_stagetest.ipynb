{
 "cells": [
  {
   "cell_type": "markdown",
   "metadata": {},
   "source": [
    "# 二項分布　"
   ]
  },
  {
   "cell_type": "code",
   "execution_count": 9,
   "metadata": {},
   "outputs": [
    {
     "name": "stdout",
     "output_type": "stream",
     "text": [
      "3.0 2.0999999999999996\n"
     ]
    }
   ],
   "source": [
    "p=0.3\n",
    "q=0.7\n",
    "n=10\n",
    "mu=n*p\n",
    "sigma=n*p*(1-p)\n",
    "print(mu,sigma)"
   ]
  },
  {
   "cell_type": "markdown",
   "metadata": {},
   "source": [
    "# GoogleNet\n",
    "## Inception\n",
    "\n",
    "### 選んだ答え\n",
    "\n",
    "複数の畳み込み層を並列に重ね、複数のスケールの特徴\n",
    "\n",
    "### 論文\n",
    "https://arxiv.org/abs/1409.4842\n",
    "\n",
    "### site1\n",
    "Inception モジュールの導入は、アーキテクチャの層を深くすることを可能にした。2013-2014 年当時、層を深くしたり、各層に存在しているユニットの数を増やしたりすることで、分類の性能が上がることが知られ始めた。しかし、少ないデータの中で、層数やユニット数を増やすことで、過学習を起こしてしまう。そこで、開発者らは Inception と呼ばれるモジュールを作り、その Inception モジュールを重ねていくことで、層を深くすることができた。\n",
    "\n",
    "これまでのアーキテクチャは、畳み込み層を順列に繋げていた。このため、畳み込み層が深くなるにつれ、画像サイズが小さくなっていき、層を深くすることができなかった。これに対して、GoogLeNet では、1 つの入力画像に対して、複数の畳み込み層（1×1, 3×3, 5×5）を並列に適用し、それぞれの畳み込み計算の結果を最後に連結している。この一連の作業をモジュールとしてまとめられ、Inception モジュールと呼ばれている。Inception モジュールを多数使うことで、パラメーターが膨大な数になる。そこで、GoogLeNet では、各畳み込み計算を行う前に 1×1 Convolution を行い、パラメーター数を削減している。\n",
    "\n",
    "Inception モジュールの構造は GoogLeNet 論文の Figure 2 で確認できる（Szegedy et al., 2014）。Figure 2a は Inception モジュールの基本構造を示している。Figure 2b は 1×1 Convolution を組み込んだ Inception モジュールの構造を示している。\n",
    "### site2\n",
    "https://pystyle.info/pytorch-googlenet/\n",
    "Inception Module は下図のような構造を持つモジュールです。Conv #3×3 reduce、Conv #5X5 reduce はそれぞれ 3×3、5×5 の畳み込み層に入力する前にチャンネル数を削減する (reduce) 働きを持つ 1×1 の畳み込み層です。4つの枝のそれぞれの出力を最後にチャンネル方向で結合して1つの出力にします。\n",
    "\n",
    "\n",
    "\n",
    "## GlobalAveragePooling(GAP)\n",
    "https://qiita.com/mine820/items/1e49bca6d215ce88594a\n",
    "\n",
    "### 選んだ答え\n",
    "各チャンネルの画素平均値を求めて、各チャンネルの平均値を・・・\n",
    "\n",
    "\n",
    "\n",
    "\n"
   ]
  },
  {
   "cell_type": "markdown",
   "metadata": {},
   "source": [
    "# pooling1"
   ]
  },
  {
   "cell_type": "code",
   "execution_count": 10,
   "metadata": {},
   "outputs": [
    {
     "data": {
      "text/plain": [
       "(72, 72)"
      ]
     },
     "execution_count": 10,
     "metadata": {},
     "output_type": "execute_result"
    }
   ],
   "source": [
    "pad =0\n",
    "filter=11\n",
    "stride=3\n",
    "H=224\n",
    "W=224\n",
    "out_h = (H + 2*pad - filter)//stride + 1\n",
    "out_w = (W + 2*pad - filter)//stride + 1\n",
    "out_h,out_w"
   ]
  },
  {
   "cell_type": "markdown",
   "metadata": {},
   "source": [
    "# pooling2"
   ]
  },
  {
   "cell_type": "code",
   "execution_count": null,
   "metadata": {},
   "outputs": [],
   "source": [
    "pad =0\n",
    "filter=11\n",
    "stride=3\n",
    "H=224\n",
    "W=224\n",
    "out_h = (H + 2*pad - filter)//stride + 1\n",
    "out_w = (W + 2*pad - filter)//stride + 1\n",
    "out_h,out_w"
   ]
  },
  {
   "cell_type": "markdown",
   "metadata": {},
   "source": []
  },
  {
   "cell_type": "code",
   "execution_count": null,
   "metadata": {},
   "outputs": [],
   "source": []
  }
 ],
 "metadata": {
  "kernelspec": {
   "display_name": "Python 3.8.10 64-bit (microsoft store)",
   "language": "python",
   "name": "python3"
  },
  "language_info": {
   "codemirror_mode": {
    "name": "ipython",
    "version": 3
   },
   "file_extension": ".py",
   "mimetype": "text/x-python",
   "name": "python",
   "nbconvert_exporter": "python",
   "pygments_lexer": "ipython3",
   "version": "3.8.10"
  },
  "orig_nbformat": 4,
  "vscode": {
   "interpreter": {
    "hash": "71772156d6d262da57445e4f3782064f83fce1c6f275c7dac2dfabc23d7f933d"
   }
  }
 },
 "nbformat": 4,
 "nbformat_minor": 2
}
