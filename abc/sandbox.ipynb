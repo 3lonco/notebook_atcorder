{
 "cells": [
  {
   "cell_type": "code",
   "execution_count": 1,
   "metadata": {},
   "outputs": [
    {
     "data": {
      "text/plain": [
       "[0]"
      ]
     },
     "execution_count": 1,
     "metadata": {},
     "output_type": "execute_result"
    }
   ],
   "source": [
    "[0]"
   ]
  },
  {
   "cell_type": "code",
   "execution_count": 2,
   "metadata": {},
   "outputs": [
    {
     "ename": "ValueError",
     "evalue": "not enough values to unpack (expected 2, got 1)",
     "output_type": "error",
     "traceback": [
      "\u001b[0;31m---------------------------------------------------------------------------\u001b[0m",
      "\u001b[0;31mValueError\u001b[0m                                Traceback (most recent call last)",
      "Cell \u001b[0;32mIn [2], line 18\u001b[0m\n\u001b[1;32m     15\u001b[0m \t\tcount \u001b[39m+\u001b[39m\u001b[39m=\u001b[39m num_paths(trail \u001b[39m+\u001b[39m[dest],num_all_nodes,G)\n\u001b[1;32m     16\u001b[0m \t\u001b[39mreturn\u001b[39;00m count\n\u001b[0;32m---> 18\u001b[0m N,M\u001b[39m=\u001b[39m\u001b[39mmap\u001b[39m(\u001b[39mint\u001b[39m,\u001b[39minput\u001b[39m()\u001b[39m.\u001b[39msplit())\n\u001b[1;32m     21\u001b[0m G\u001b[39m=\u001b[39m[[] \u001b[39mfor\u001b[39;00m i \u001b[39min\u001b[39;00m \u001b[39mrange\u001b[39m(N)]\n\u001b[1;32m     23\u001b[0m \u001b[39mfor\u001b[39;00m i \u001b[39min\u001b[39;00m \u001b[39mrange\u001b[39m(M):\n",
      "\u001b[0;31mValueError\u001b[0m: not enough values to unpack (expected 2, got 1)"
     ]
    }
   ],
   "source": [
    "def num_paths(trail,num_all_nodes,G):\n",
    "\t#print(\"trail is\",trail)\n",
    "\tif len(trail) == num_all_nodes:\t\t\n",
    "\t\t#print(\"I did it!!!\")\n",
    "\t\treturn 1\n",
    " \n",
    "\tcount = 0\t\n",
    "\t#print(\"G[trail[len(trail) -\t1]\",G[trail[len(trail) -\t1]])\n",
    "\tfor dest in G[trail[len(trail) -\t1]]:\n",
    "\t\t#print(\"dest is\",dest)\n",
    "\t\tif dest in trail:\n",
    "\t\t\t#print(\"continue\")\n",
    "\t\t\tcontinue\n",
    "\t\t#print(\"Go num_paths() where trai is\", trail +[dest],\"[dest]\",dest)\n",
    "\t\tcount += num_paths(trail +[dest],num_all_nodes,G)\n",
    "\treturn count\n",
    "\t\t\t\t\t\t\t\t\t\t\n",
    "N,M=map(int,input().split())\n",
    " \n",
    " \n",
    "G=[[] for i in range(N)]\n",
    " \n",
    "for i in range(M):\n",
    "\tu,v = map(int,input().split())\n",
    "\tu-=1\n",
    "\tv-=1\n",
    "\tG[u].append(v)\n",
    "\tG[v].append(u)\n",
    " \n",
    "print(num_paths([0],N,G))"
   ]
  },
  {
   "cell_type": "code",
   "execution_count": null,
   "metadata": {},
   "outputs": [],
   "source": []
  }
 ],
 "metadata": {
  "kernelspec": {
   "display_name": "Python 3.10.6 64-bit",
   "language": "python",
   "name": "python3"
  },
  "language_info": {
   "codemirror_mode": {
    "name": "ipython",
    "version": 3
   },
   "file_extension": ".py",
   "mimetype": "text/x-python",
   "name": "python",
   "nbconvert_exporter": "python",
   "pygments_lexer": "ipython3",
   "version": "3.10.6"
  },
  "orig_nbformat": 4,
  "vscode": {
   "interpreter": {
    "hash": "916dbcbb3f70747c44a77c7bcd40155683ae19c65e1c03b4aa3499c5328201f1"
   }
  }
 },
 "nbformat": 4,
 "nbformat_minor": 2
}
