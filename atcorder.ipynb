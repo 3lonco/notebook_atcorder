{
 "cells": [
  {
   "cell_type": "markdown",
   "metadata": {},
   "source": [
    "## 5-6 累積和\n",
    "https://atcoder.jp/contests/abc122/tasks/abc122_c\n",
    "\n",
    "累積和　サイズの配列に対して、次のように定義されるサイズN+1の配列S\n",
    "\n",
    "s[0]=0\n",
    "\n",
    "\n",
    "S[1]=A[0]\n",
    "\n",
    "\n",
    "・\n",
    "・\n",
    "・\n",
    "\n",
    "\n",
    "$S[N]=A[0] \\cdots A[N-1]$\n",
    "\n",
    "最初はゼロにすること\n"
   ]
  },
  {
   "cell_type": "code",
   "execution_count": 1,
   "metadata": {},
   "outputs": [
    {
     "ename": "NameError",
     "evalue": "name 'N' is not defined",
     "output_type": "error",
     "traceback": [
      "\u001b[1;31m---------------------------------------------------------------------------\u001b[0m",
      "\u001b[1;31mNameError\u001b[0m                                 Traceback (most recent call last)",
      "\u001b[1;32m<ipython-input-1-c6a75222f556>\u001b[0m in \u001b[0;36m<module>\u001b[1;34m\u001b[0m\n\u001b[1;32m----> 1\u001b[1;33m \u001b[0mS\u001b[0m \u001b[1;33m=\u001b[0m\u001b[1;33m[\u001b[0m\u001b[1;36m0\u001b[0m\u001b[1;33m]\u001b[0m \u001b[1;33m*\u001b[0m \u001b[1;33m(\u001b[0m\u001b[0mN\u001b[0m\u001b[1;33m+\u001b[0m\u001b[1;36m1\u001b[0m\u001b[1;33m)\u001b[0m\u001b[1;33m\u001b[0m\u001b[1;33m\u001b[0m\u001b[0m\n\u001b[0m\u001b[0;32m      2\u001b[0m \u001b[1;32mfor\u001b[0m \u001b[0mi\u001b[0m \u001b[1;32min\u001b[0m \u001b[0mrange\u001b[0m\u001b[1;33m(\u001b[0m\u001b[0mN\u001b[0m\u001b[1;33m)\u001b[0m\u001b[1;33m:\u001b[0m\u001b[1;33m\u001b[0m\u001b[1;33m\u001b[0m\u001b[0m\n\u001b[0;32m      3\u001b[0m   \u001b[0mS\u001b[0m\u001b[1;33m[\u001b[0m\u001b[0mi\u001b[0m\u001b[1;33m+\u001b[0m\u001b[1;36m1\u001b[0m\u001b[1;33m]\u001b[0m\u001b[1;33m=\u001b[0m\u001b[0mS\u001b[0m\u001b[1;33m[\u001b[0m\u001b[0mi\u001b[0m\u001b[1;33m]\u001b[0m\u001b[1;33m+\u001b[0m\u001b[0mA\u001b[0m\u001b[1;33m[\u001b[0m\u001b[0mi\u001b[0m\u001b[1;33m]\u001b[0m\u001b[1;33m\u001b[0m\u001b[1;33m\u001b[0m\u001b[0m\n",
      "\u001b[1;31mNameError\u001b[0m: name 'N' is not defined"
     ]
    }
   ],
   "source": [
    "S =[0] * (N+1)\n",
    "for i in range(N):\n",
    "  S[i+1]=S[i]+A[i]"
   ]
  },
  {
   "cell_type": "markdown",
   "metadata": {},
   "source": [
    "#### 区間クエリとは\n",
    "整数l,rが与えられたときに[l,r)のそうわを求めよ\n",
    "\n",
    "\n",
    "[l、r)はA[1]からA[r-1]のことをさす\n",
    "これはpython3だと\n",
    "A[l:r]\n",
    "\n",
    "\n",
    "\n",
    "\n"
   ]
  },
  {
   "cell_type": "markdown",
   "metadata": {},
   "source": [
    "### 問題文\n",
    "\n",
    "\n",
    "A, C, G, T からなる長さ N の文字列 S が与えられます。以下の Q 個の問いに答えてください。\n",
    "\n",
    "問 i (1≤i≤Q): 整数 $l_i,r_i$\n",
    "​\n",
    "$  (1≤l_i<r_i≤N) が与えられる。$\n",
    "$  S の先頭から l_i文字目から r_i$\n",
    "​\n",
    "文字目までの (両端含む) 部分文字列を考える。この文字列に AC は部分文字列として何回現れるか。\n",
    "\n",
    "\n",
    "### 注記\n",
    "文字列 T の部分文字列とは、T の先頭と末尾から 0 文字以上を取り去って得られる文字列です。\n",
    "\n",
    "例えば、ATCODER の部分文字列には TCO, AT, CODER, ATCODER, (空文字列) が含まれ、AC は含まれません。\n",
    "\n",
    "### 制約\n",
    "\n",
    "\n",
    "$2≤N≤10^5$\n",
    " \n",
    "$1≤Q≤10^5$\n",
    "\n",
    "\n",
    "S は長さ N の文字列である。\n",
    "\n",
    "\n",
    "S の各文字は A, C, G, T のいずれかである。\n",
    "\n",
    "\n",
    "$1≤l_i<r_i≤N$\n",
    "\n",
    "\n",
    "### 入力\n",
    "N Q\n",
    "\n",
    "\n",
    "S\n",
    "\n",
    "\n",
    "$l_1 r_1$\n",
    "\n",
    "\n",
    "$l_Q r_Q$\n",
    "\n",
    "\n",
    "### 出力\n",
    "Q行を出力。i 行目に問 i への答えを出力すること。\n",
    "\n",
    "\n",
    "### 乳りょっくれい1\n",
    "8 3\n",
    "\n",
    "\n",
    "ACACTACG\n",
    "\n",
    "\n",
    "3 7\n",
    "\n",
    "\n",
    "2 3\n",
    "\n",
    "\n",
    "1 8\n",
    "\n",
    "\n",
    "### 出力〇\n",
    "2\n",
    "0\n",
    "3"
   ]
  },
  {
   "cell_type": "code",
   "execution_count": null,
   "metadata": {},
   "outputs": [],
   "source": []
  },
  {
   "cell_type": "code",
   "execution_count": 20,
   "metadata": {},
   "outputs": [
    {
     "ename": "TypeError",
     "evalue": "'builtin_function_or_method' object is not iterable",
     "output_type": "error",
     "traceback": [
      "\u001b[1;31m---------------------------------------------------------------------------\u001b[0m",
      "\u001b[1;31mTypeError\u001b[0m                                 Traceback (most recent call last)",
      "\u001b[1;32m<ipython-input-20-462730b7d307>\u001b[0m in \u001b[0;36m<module>\u001b[1;34m\u001b[0m\n\u001b[0;32m      6\u001b[0m   \u001b[0mcs\u001b[0m\u001b[1;33m[\u001b[0m\u001b[0mi\u001b[0m\u001b[1;33m+\u001b[0m\u001b[1;36m1\u001b[0m\u001b[1;33m]\u001b[0m\u001b[1;33m=\u001b[0m\u001b[0mcs\u001b[0m\u001b[1;33m[\u001b[0m\u001b[0mi\u001b[0m\u001b[1;33m]\u001b[0m\u001b[1;33m+\u001b[0m\u001b[1;33m(\u001b[0m\u001b[0mS\u001b[0m\u001b[1;33m[\u001b[0m\u001b[0mi\u001b[0m\u001b[1;33m-\u001b[0m\u001b[1;36m1\u001b[0m\u001b[1;33m:\u001b[0m\u001b[0mi\u001b[0m\u001b[1;33m+\u001b[0m\u001b[1;36m1\u001b[0m\u001b[1;33m]\u001b[0m\u001b[1;33m==\u001b[0m\u001b[1;34m\"AC\"\u001b[0m\u001b[1;33m)\u001b[0m\u001b[1;33m\u001b[0m\u001b[1;33m\u001b[0m\u001b[0m\n\u001b[0;32m      7\u001b[0m \u001b[1;33m\u001b[0m\u001b[0m\n\u001b[1;32m----> 8\u001b[1;33m   \u001b[0ml\u001b[0m\u001b[1;33m,\u001b[0m\u001b[0mr\u001b[0m\u001b[1;33m=\u001b[0m\u001b[0mmap\u001b[0m\u001b[1;33m(\u001b[0m\u001b[0mint\u001b[0m\u001b[1;33m,\u001b[0m\u001b[0minput\u001b[0m\u001b[1;33m(\u001b[0m\u001b[1;33m)\u001b[0m\u001b[1;33m.\u001b[0m\u001b[0msplit\u001b[0m\u001b[1;33m)\u001b[0m\u001b[1;33m\u001b[0m\u001b[1;33m\u001b[0m\u001b[0m\n\u001b[0m\u001b[0;32m      9\u001b[0m \u001b[1;33m\u001b[0m\u001b[0m\n",
      "\u001b[1;31mTypeError\u001b[0m: 'builtin_function_or_method' object is not iterable"
     ]
    }
   ],
   "source": [
    "N,Q=map(int,input().split())\n",
    "S=input()\n",
    "\n",
    "cs =[0] * (N+1)\n",
    "for i in range(1,N):\n",
    "  cs[i+1]=cs[i]+(S[i-1:i+1]==\"AC\")\n",
    "\n",
    "for q in range(Q):\n",
    "  l,r =map(int,)\n",
    "l,r=map(int,input().split)\n",
    "\n"
   ]
  },
  {
   "cell_type": "code",
   "execution_count": 36,
   "metadata": {},
   "outputs": [
    {
     "name": "stdout",
     "output_type": "stream",
     "text": [
      "11\n"
     ]
    }
   ],
   "source": [
    "N=int(input())\n",
    "s = list(map(int,input().split()))\n",
    "\n",
    "sum=0\n",
    "for i in s:\n",
    "  sum +=i\n",
    "print(sum)"
   ]
  },
  {
   "cell_type": "code",
   "execution_count": 34,
   "metadata": {},
   "outputs": [
    {
     "ename": "TypeError",
     "evalue": "unsupported operand type(s) for +=: 'builtin_function_or_method' and 'list'",
     "output_type": "error",
     "traceback": [
      "\u001b[1;31m---------------------------------------------------------------------------\u001b[0m",
      "\u001b[1;31mTypeError\u001b[0m                                 Traceback (most recent call last)",
      "\u001b[1;32m<ipython-input-34-6f3f16c938b6>\u001b[0m in \u001b[0;36m<module>\u001b[1;34m\u001b[0m\n\u001b[1;32m----> 1\u001b[1;33m \u001b[0msum\u001b[0m\u001b[1;33m+=\u001b[0m\u001b[0ms\u001b[0m\u001b[1;33m[\u001b[0m\u001b[1;33m:\u001b[0m\u001b[1;33m]\u001b[0m\u001b[1;33m\u001b[0m\u001b[1;33m\u001b[0m\u001b[0m\n\u001b[0m",
      "\u001b[1;31mTypeError\u001b[0m: unsupported operand type(s) for +=: 'builtin_function_or_method' and 'list'"
     ]
    }
   ],
   "source": []
  },
  {
   "cell_type": "code",
   "execution_count": 63,
   "metadata": {},
   "outputs": [
    {
     "name": "stdout",
     "output_type": "stream",
     "text": [
      "FF\n"
     ]
    }
   ],
   "source": [
    "N=int(input())\n",
    "s=hex(N)\n",
    "if N<16:\n",
    "  print('0'+s[-1].upper())\n",
    "else:\n",
    "  print(s[2:4].upper())\n",
    "  "
   ]
  },
  {
   "cell_type": "markdown",
   "metadata": {},
   "source": []
  },
  {
   "cell_type": "code",
   "execution_count": 129,
   "metadata": {},
   "outputs": [
    {
     "name": "stdout",
     "output_type": "stream",
     "text": [
      "2\n",
      "3\n",
      "4\n",
      "5\n",
      "8\n"
     ]
    }
   ],
   "source": [
    "N=int(input())\n",
    "A=map(int,input().split())\n",
    "\n",
    "e_1=0\n",
    "e_2=0\n",
    "\n",
    "o_1=0\n",
    "o_2=0\n",
    "\n",
    "flag=False\n",
    "for i in A:\n",
    "  print(i)\n",
    "  #if A[i] is even\n",
    "  if i%2==0:\n",
    "    if i>=e_1:\n",
    "      e_2=e_1\n",
    "      e_1=i\n",
    "    elif i>=e_2:\n",
    "      e_2=i\n",
    "  \n",
    "  else:\n",
    "    if i>=o_1:\n",
    "      o_2=o_1\n",
    "      o_1=i\n",
    "    elif i>=o_2:\n",
    "      o_2=i\n",
    "  \n",
    "if(o_2==0 and e_2==0):\n",
    "  print(-1)\n",
    "else:\n",
    "  ans = max(e_1+e_2,o_1+o_2)\n",
    "  print(ans)  \n",
    "\n"
   ]
  },
  {
   "cell_type": "markdown",
   "metadata": {},
   "source": [
    "# Example 06 Shift Only\n",
    "https://atcoder.jp/contests/abc081/tasks/abc081_b\n",
    "\n",
    "## 問題文\n",
    "黒板に N 個の正の整数 A \n",
    "\n",
    "\n",
    "$1,...,A_N$\n",
    "​\n",
    "  が書かれています．\n",
    "\n",
    "すぬけ君は，黒板に書かれている整数がすべて偶数であるとき，次の操作を行うことができます．\n",
    "\n",
    "黒板に書かれている整数すべてを，2 で割ったものに置き換える．\n",
    "すぬけ君は最大で何回操作を行うことができるかを求めてください．\n",
    "\n",
    "制約\n",
    "$1≤N≤200$\n",
    "\n",
    "\n",
    "$1≤A_i≤10^9$\n",
    "\n",
    "\n",
    "## 入力\n",
    "入力は以下の形式で標準入力から与えられる。\n",
    "\n",
    "\n",
    "\n",
    "$N$\n",
    "\n",
    "\n",
    "$A_1 A2... A_N$\n",
    "\n",
    "##  出力\n",
    "すぬけ君は最大で何回操作を行うことができるかを出力せよ．\n",
    "\n",
    "## 入力例\n",
    "3\n",
    "\n",
    "8 12 40\n",
    "\n",
    "​\n",
    "\n",
    "## 出力零1\n",
    "2\n",
    "\n",
    "\n",
    "最初，黒板には [8,12,40] が書かれています． このとき，書かれている整数はすべて偶数なので，操作を行うことができます．\n",
    "\n",
    "1 回操作を行った後，黒板には [4,6,20] が書かれています． 再び，書かれている整数はすべて偶数なので，操作を行うことができます．\n",
    "\n",
    "2 回操作を行った後，黒板には [2,3,10] が書かれています． この時，奇数 3 が書かれているため，これ以上操作を行うことはできません．\n",
    "\n",
    "よって，すぬけ君は最大で 2 回操作を行うことができます．\n",
    "\n",
    "\n",
    "\n",
    " \n"
   ]
  },
  {
   "cell_type": "code",
   "execution_count": 7,
   "metadata": {},
   "outputs": [
    {
     "name": "stdout",
     "output_type": "stream",
     "text": [
      "8\n"
     ]
    }
   ],
   "source": [
    "N=int(input())\n",
    "A=list(map(int,input().split()))\n",
    "\n",
    "cnt=0\n",
    "flag=True\n",
    "while flag==True:\n",
    "  for i in range(N):\n",
    "    if A[i]%2==0:\n",
    "      A[i]/=2\n",
    "    else:\n",
    "      flag=False\n",
    "      break\n",
    "\n",
    "  if flag==True:\n",
    "    cnt+=1\n",
    "\n",
    "print(cnt)  \n",
    "\n"
   ]
  },
  {
   "cell_type": "markdown",
   "metadata": {},
   "source": [
    "## 模範解答2"
   ]
  },
  {
   "cell_type": "code",
   "execution_count": 2,
   "metadata": {},
   "outputs": [
    {
     "name": "stdout",
     "output_type": "stream",
     "text": [
      "1\n"
     ]
    }
   ],
   "source": [
    "def how_many_times(num):\n",
    "  # variable which shows how many times they are divided by 2\n",
    "  counter = 0 \n",
    "\n",
    "  # keep dividing until they can be divided by 2\n",
    "  while num % 2 ==0:\n",
    "    # numを2で割る\n",
    "    num //=2\n",
    "\n",
    "    # increase counter\n",
    "    counter += 1\n",
    "\n",
    "  return counter\n",
    "  \n",
    "  \n",
    "INF = 2**30\n",
    "N=int(input())\n",
    "A=list(map(int,input().split()))\n",
    "\n",
    "result = INF\n",
    "\n",
    "for a in A:\n",
    "  #2で割れる回数の最小値を求める\n",
    "  counter = how_many_times(a)\n",
    "  result = min(result,counter)\n",
    "\n",
    "print(result)\n",
    "\n",
    "\n"
   ]
  },
  {
   "cell_type": "code",
   "execution_count": 14,
   "metadata": {},
   "outputs": [
    {
     "name": "stdout",
     "output_type": "stream",
     "text": [
      "2\n"
     ]
    }
   ],
   "source": [
    "A=[2,2,3,4]\n",
    "\n",
    "def printer(a):\n",
    "  return a\n",
    "\n",
    "s=min(map(printer,A))\n",
    "print(s)"
   ]
  },
  {
   "cell_type": "markdown",
   "metadata": {},
   "source": [
    "# Example 07 Card Game 4 Two\n",
    "https://atcoder.jp/contests/abc088/tasks/abc088_b"
   ]
  },
  {
   "cell_type": "code",
   "execution_count": 22,
   "metadata": {},
   "outputs": [
    {
     "name": "stdout",
     "output_type": "stream",
     "text": [
      "18\n"
     ]
    }
   ],
   "source": [
    "#自分の解答\n",
    "N=int(input())\n",
    "a=list(map(int,input().split()))\n",
    "a.sort(reverse=True)\n",
    "alice=0\n",
    "bob =0\n",
    "for i in range(N):\n",
    "  if i%2==0:\n",
    "    alice+=a[i]\n",
    "  else:\n",
    "    bob+=a[i]\n",
    "\n",
    "print(alice-bob)\n"
   ]
  },
  {
   "cell_type": "markdown",
   "metadata": {},
   "source": [
    "# 132 Dived the problems\n",
    "https://atcoder.jp/contests/abc132/tasks/abc132_c\n"
   ]
  },
  {
   "cell_type": "code",
   "execution_count": 30,
   "metadata": {},
   "outputs": [
    {
     "name": "stdout",
     "output_type": "stream",
     "text": [
      "2\n"
     ]
    }
   ],
   "source": [
    "#自分の解答\n",
    "N=int(input())\n",
    "d=list(map(int,input().split()))\n",
    "d.sort()\n",
    "index=int(N/2)\n",
    "print(d[index]-d[index-1])\n",
    "\n",
    "\n",
    "\n",
    "\n",
    "\n",
    "\n",
    "\n"
   ]
  },
  {
   "cell_type": "markdown",
   "metadata": {},
   "source": [
    "\n",
    "# C - Christmas Eve\n",
    "\n",
    "https://atcoder.jp/contests/abc115/tasks/abc115_c"
   ]
  },
  {
   "cell_type": "code",
   "execution_count": 57,
   "metadata": {},
   "outputs": [
    {
     "name": "stdout",
     "output_type": "stream",
     "text": [
      "0 2\n",
      "1 3\n",
      "2 4\n",
      "0\n"
     ]
    }
   ],
   "source": [
    "N,K=map(int,input().split())\n",
    "a=[]\n",
    "for i in range(N):\n",
    "  h=int(input())\n",
    "  a.append(h)\n",
    "a.sort()\n",
    "\n",
    "m=1000000000\n",
    "for i in range(0,N+1-(K),1): \n",
    "  res=a[K+i-1]-a[i]\n",
    "  m=min(m,res)\n",
    "  if m==0:\n",
    "    break\n",
    "\n",
    "print(m)\n"
   ]
  },
  {
   "cell_type": "code",
   "execution_count": 44,
   "metadata": {},
   "outputs": [
    {
     "name": "stdout",
     "output_type": "stream",
     "text": [
      "[10, 11, 12] 10 12\n"
     ]
    }
   ],
   "source": [
    "a=[10, 15, 11, 14, 12]\n",
    "a.sort()\n",
    "\n",
    "print(a[0:3],min(a[0:3]),max(a[0:3]))"
   ]
  },
  {
   "cell_type": "markdown",
   "metadata": {},
   "source": [
    "# C - Energy Drink\n",
    "https://atcoder.jp/contests/abc121"
   ]
  },
  {
   "cell_type": "code",
   "execution_count": 107,
   "metadata": {},
   "outputs": [
    {
     "name": "stdout",
     "output_type": "stream",
     "text": [
      "[(2, 5), (3, 10), (6, 18), (7, 9)]\n",
      "2 4 29\n",
      "4 3 28\n",
      "6 2 27\n",
      "8 1 26\n",
      "10 0 25\n",
      "13 9 24\n",
      "16 8 23\n",
      "19 7 22\n",
      "22 6 21\n",
      "25 5 20\n",
      "28 4 19\n",
      "31 3 18\n",
      "34 2 17\n",
      "37 1 16\n",
      "40 0 15\n",
      "46 17 14\n",
      "52 16 13\n",
      "58 15 12\n",
      "64 14 11\n",
      "70 13 10\n",
      "76 12 9\n",
      "82 11 8\n",
      "88 10 7\n",
      "94 9 6\n",
      "100 8 5\n",
      "106 7 4\n",
      "112 6 3\n",
      "118 5 2\n",
      "124 4 1\n",
      "130 3 0\n",
      "130\n"
     ]
    }
   ],
   "source": [
    "N,M=map(int,input().split())\n",
    "res=[]\n",
    "for i in range(N):\n",
    "  a,b= map(int,input().split())\n",
    "  res.append((a,b))\n",
    "\n",
    "res.sort(key=lambda x:x[0])\n",
    "money=0\n",
    "for cost,num in res:\n",
    "  while num>0 and M>0:\n",
    "    money+=cost\n",
    "    num-=1      \n",
    "    M -= 1\n",
    "    \n",
    "print(money)\n",
    "    "
   ]
  },
  {
   "cell_type": "code",
   "execution_count": 93,
   "metadata": {},
   "outputs": [
    {
     "name": "stdout",
     "output_type": "stream",
     "text": [
      "2\n",
      "4\n",
      "2 4\n",
      "4 9\n"
     ]
    }
   ],
   "source": [
    "from matplotlib.pyplot import axis\n",
    "\n",
    "\n",
    "a=1\n",
    "b=3\n",
    "\n",
    "x=2\n",
    "y=5\n",
    "z=(x,y)\n",
    "c=(a,b)\n",
    "\n",
    "d=[]\n",
    "\n",
    "d.append((4,9))\n",
    "d.append((2,4))\n",
    "d.sort(key=lambda x:x[0])\n",
    "print(len(d))\n",
    "print(d[0][1])\n",
    "\n",
    "\n",
    "\n",
    "for i, j in d:\n",
    "  print(i,j)"
   ]
  },
  {
   "cell_type": "markdown",
   "metadata": {},
   "source": []
  },
  {
   "cell_type": "markdown",
   "metadata": {},
   "source": [
    "# C-ID\n",
    "https://atcoder.jp/contests/abc113/tasks/abc113_c"
   ]
  },
  {
   "cell_type": "code",
   "execution_count": 108,
   "metadata": {},
   "outputs": [],
   "source": [
    "\n",
    "\n"
   ]
  },
  {
   "cell_type": "code",
   "execution_count": 125,
   "metadata": {},
   "outputs": [
    {
     "name": "stdout",
     "output_type": "stream",
     "text": [
      "[(2, 1, 12), (0, 1, 32), (1, 2, 63)]\n"
     ]
    }
   ],
   "source": [
    "print(id)\n",
    "temp =id"
   ]
  },
  {
   "cell_type": "code",
   "execution_count": 151,
   "metadata": {},
   "outputs": [
    {
     "name": "stdout",
     "output_type": "stream",
     "text": [
      "000001000002\n",
      "000002000001\n",
      "000001000001\n"
     ]
    }
   ],
   "source": [
    "N,M= map(int,input().split())\n",
    "id=[]\n",
    "for i in range(M):\n",
    "  prefecture,year=map(int,input().split())\n",
    "  id.append((i,prefecture,year))\n",
    "p_tag=1\n",
    "cnt=1\n",
    "ans=[]\n",
    "\n",
    "for index,prefecture,year in temp:\n",
    "  if prefecture == p_tag:\n",
    "    result=(index,prefecture,cnt)\n",
    "    ans.append(result)\n",
    "    cnt+=1\n",
    "  else:\n",
    "    cnt=1\n",
    "    p_tag+=1\n",
    "    result=(index,prefecture,cnt)\n",
    "    ans.append(result)\n",
    "\n",
    "ans.sort(key=lambda x:x[0] )\n",
    "\n",
    "\n",
    "for i,prefecture,year in ans:\n",
    "  str_p =str(prefecture)\n",
    "  zero_p=str_p.zfill(6)\n",
    "  str_y =str(year)\n",
    "  zero_y=str_y.zfill(6)\n",
    "  print(zero_p+zero_y)\n"
   ]
  },
  {
   "cell_type": "code",
   "execution_count": 147,
   "metadata": {},
   "outputs": [
    {
     "data": {
      "text/plain": [
       "'00000001'"
      ]
     },
     "execution_count": 147,
     "metadata": {},
     "output_type": "execute_result"
    }
   ],
   "source": [
    "s=\"1\"\n",
    "a=s.zfill(8)\n",
    "a"
   ]
  },
  {
   "cell_type": "markdown",
   "metadata": {},
   "source": [
    "# C - (K+1)-th Largest Number\n",
    "https://atcoder.jp/contests/abc273/tasks/abc273_c\n"
   ]
  },
  {
   "cell_type": "code",
   "execution_count": 21,
   "metadata": {},
   "outputs": [
    {
     "name": "stdout",
     "output_type": "stream",
     "text": [
      "[(2, 1, 0), (0, 2, 0), (4, 2, 0), (1, 7, 0), (3, 8, 0), (5, 8, 0)]\n",
      "0\n"
     ]
    },
    {
     "ename": "TypeError",
     "evalue": "'tuple' object does not support item assignment",
     "output_type": "error",
     "traceback": [
      "\u001b[1;31m---------------------------------------------------------------------------\u001b[0m",
      "\u001b[1;31mTypeError\u001b[0m                                 Traceback (most recent call last)",
      "\u001b[1;32m<ipython-input-21-c682a38e6271>\u001b[0m in \u001b[0;36m<module>\u001b[1;34m\u001b[0m\n\u001b[0;32m     14\u001b[0m       \u001b[0mprint\u001b[0m\u001b[1;33m(\u001b[0m\u001b[0mt\u001b[0m\u001b[1;33m[\u001b[0m\u001b[0mi\u001b[0m\u001b[1;33m]\u001b[0m\u001b[1;33m[\u001b[0m\u001b[1;36m2\u001b[0m\u001b[1;33m]\u001b[0m\u001b[1;33m)\u001b[0m\u001b[1;33m\u001b[0m\u001b[1;33m\u001b[0m\u001b[0m\n\u001b[0;32m     15\u001b[0m       \u001b[1;32mif\u001b[0m \u001b[0mj\u001b[0m \u001b[1;33m>\u001b[0m\u001b[0mtemp\u001b[0m\u001b[1;33m:\u001b[0m\u001b[1;33m\u001b[0m\u001b[1;33m\u001b[0m\u001b[0m\n\u001b[1;32m---> 16\u001b[1;33m         \u001b[0mt\u001b[0m\u001b[1;33m[\u001b[0m\u001b[0mi\u001b[0m\u001b[1;33m]\u001b[0m\u001b[1;33m[\u001b[0m\u001b[1;36m2\u001b[0m\u001b[1;33m]\u001b[0m\u001b[1;33m+=\u001b[0m\u001b[1;36m1\u001b[0m\u001b[1;33m\u001b[0m\u001b[1;33m\u001b[0m\u001b[0m\n\u001b[0m\u001b[0;32m     17\u001b[0m \u001b[1;33m\u001b[0m\u001b[0m\n\u001b[0;32m     18\u001b[0m \u001b[1;33m\u001b[0m\u001b[0m\n",
      "\u001b[1;31mTypeError\u001b[0m: 'tuple' object does not support item assignment"
     ]
    }
   ],
   "source": [
    "N = int(input())\n",
    "A = list(map(int,input().split()))\n",
    "t=[]\n",
    "for id in range(N):\n",
    "  t.append((id,A[id],0))\n",
    "\n",
    "t.sort(key=lambda x:x[1])\n",
    "print(t)\n",
    "s=set(A)\n",
    "\n",
    "for i in range(N):\n",
    "    temp = t[i][1]\n",
    "    for j in s:\n",
    "      if j >temp:\n",
    "        t[i][2]+=1\n",
    "\n",
    "    \n"
   ]
  },
  {
   "cell_type": "code",
   "execution_count": 23,
   "metadata": {},
   "outputs": [
    {
     "name": "stdout",
     "output_type": "stream",
     "text": [
      "2\n"
     ]
    }
   ],
   "source": [
    "# https://atcoder.jp/contests/abc204/submissions/me\n",
    "x,y = map(int,input().split())\n",
    "\n",
    "ans=x+y\n",
    "\n",
    "if x==y:\n",
    "  print(x)\n",
    "else:\n",
    "  if ans==1:\n",
    "    print(2)\n",
    "  if ans==2:\n",
    "    print(1)\n",
    "  if ans==3:\n",
    "    print(0)\n",
    "   "
   ]
  },
  {
   "cell_type": "code",
   "execution_count": 24,
   "metadata": {},
   "outputs": [],
   "source": [
    "# https://atcoder.jp/contests/abc204/tasks/abc204_b\n",
    "N=int(input())\n",
    "A=list(map(int,input().split()))\n",
    "\n",
    "total=0\n",
    "for m in A:\n",
    "  if m >10:\n",
    "    total+=m-10\n",
    "\n",
    "print(total)\n"
   ]
  },
  {
   "cell_type": "code",
   "execution_count": null,
   "metadata": {},
   "outputs": [],
   "source": [
    "# https://atcoder.jp/contests/abc204/tasks/abc204_c#"
   ]
  },
  {
   "cell_type": "code",
   "execution_count": 25,
   "metadata": {},
   "outputs": [],
   "source": [
    "#https://atcoder.jp/contests/arc151/tasks/arc151_a\n",
    "\n",
    "\n",
    "\n",
    "\n",
    "\n",
    "\n"
   ]
  },
  {
   "cell_type": "code",
   "execution_count": 29,
   "metadata": {},
   "outputs": [],
   "source": [
    "test=input()"
   ]
  },
  {
   "cell_type": "code",
   "execution_count": 30,
   "metadata": {},
   "outputs": [
    {
     "data": {
      "text/plain": [
       "'00100'"
      ]
     },
     "execution_count": 30,
     "metadata": {},
     "output_type": "execute_result"
    }
   ],
   "source": [
    "test"
   ]
  },
  {
   "cell_type": "code",
   "execution_count": 129,
   "metadata": {},
   "outputs": [],
   "source": [
    "\n"
   ]
  },
  {
   "cell_type": "code",
   "execution_count": 142,
   "metadata": {},
   "outputs": [
    {
     "name": "stdout",
     "output_type": "stream",
     "text": [
      "00001\n"
     ]
    }
   ],
   "source": [
    "def tobin(x,N):\n",
    "  num=bin(x)\n",
    "  aa=''\n",
    "  flag=False\n",
    "  for i in num:\n",
    "    if flag==True:\n",
    "      aa+=i\n",
    "    if i =='b':\n",
    "      flag=True\n",
    "  ans = aa.zfill(N)\n",
    "  return ans\n",
    "\n",
    "\n",
    "def check(S,T,N):\n",
    "  for i in range(N):\n",
    "    s =int(S[i])\n",
    "    t =int(S[i])\n",
    "    if s+t!=1:\n",
    "      return False\n",
    "  return True\n",
    "\n",
    "N=int(input())\n",
    "S=input()\n",
    "T=input()\n",
    "if check(S,T,N)==False:\n",
    "  print(-1)\n",
    "else:\n",
    "  ans=20000001\n",
    "  exist_ans=False\n",
    "  for i in range(0,N):\n",
    "    cnt_s=0\n",
    "    cnt_t=0\n",
    "    C = tobin(i,N)\n",
    "    for j in range(N):\n",
    "      s=int(S[j])\n",
    "      t=int(T[j])\n",
    "      c=int(C[j])      \n",
    "      if c!=s:\n",
    "        cnt_s+=1\n",
    "      if c!=t:\n",
    "        cnt_t+=1\n",
    "    if cnt_s==cnt_t and cnt_s>0:\n",
    "      ans=min(ans,i)\n",
    "      exist_ans=True\n",
    "  if exist_ans==True:\n",
    "    print(tobin(ans,N))\n",
    "  else:\n",
    "    print(-1)\n"
   ]
  },
  {
   "cell_type": "code",
   "execution_count": 123,
   "metadata": {},
   "outputs": [
    {
     "name": "stdout",
     "output_type": "stream",
     "text": [
      "0\n",
      "b\n",
      "0\n",
      "len 1\n",
      "00000\n"
     ]
    }
   ],
   "source": [
    "N,M=map(int,input().split())\n",
    "P=list(map(int,input().split()))\n",
    "\n"
   ]
  },
  {
   "cell_type": "code",
   "execution_count": 114,
   "metadata": {},
   "outputs": [
    {
     "data": {
      "text/plain": [
       "'0b0'"
      ]
     },
     "execution_count": 114,
     "metadata": {},
     "output_type": "execute_result"
    }
   ],
   "source": [
    "ans=bin(0)\n",
    "ans"
   ]
  },
  {
   "cell_type": "code",
   "execution_count": 152,
   "metadata": {},
   "outputs": [
    {
     "data": {
      "text/plain": [
       "False"
      ]
     },
     "execution_count": 152,
     "metadata": {},
     "output_type": "execute_result"
    }
   ],
   "source": []
  },
  {
   "cell_type": "code",
   "execution_count": 146,
   "metadata": {},
   "outputs": [
    {
     "data": {
      "text/plain": [
       "10"
      ]
     },
     "execution_count": 146,
     "metadata": {},
     "output_type": "execute_result"
    }
   ],
   "source": [
    "S\n",
    "T"
   ]
  },
  {
   "cell_type": "code",
   "execution_count": 177,
   "metadata": {},
   "outputs": [
    {
     "name": "stdout",
     "output_type": "stream",
     "text": [
      "00001\n"
     ]
    }
   ],
   "source": [
    "def tobin(x,N):\n",
    "  num=bin(x)\n",
    "  aa=''\n",
    "  flag=False\n",
    "  for i in num:\n",
    "    if flag==True:\n",
    "      aa+=i\n",
    "    if i =='b':\n",
    "      flag=True\n",
    "  ans = aa.zfill(N)\n",
    "  return ans\n",
    "\n",
    "\n",
    "def check(S,T,N):\n",
    "  cnt=0\n",
    "  for i in range(N):\n",
    "    s =int(S[i])\n",
    "    t =int(T[i])\n",
    "    if s+t==1:\n",
    "      cnt+=1\n",
    "  if cnt==N:\n",
    "    return False\n",
    "  else:\n",
    "    return True\n",
    "\n",
    "\n",
    "\n",
    "N=int(input())\n",
    "S=input()\n",
    "T=input()\n",
    "if check(S,T,N)==False:\n",
    "  print(-1)\n",
    "\n",
    "else:\n",
    "  exist_ans=False\n",
    "  for i in range(0,N):\n",
    "    cnt_s=0\n",
    "    cnt_t=0\n",
    "    C = tobin(i,N)\n",
    "    for j in range(N):\n",
    "      s=int(S[j])\n",
    "      t=int(T[j])\n",
    "      c=int(C[j])      \n",
    "      if c!=s:\n",
    "        cnt_s+=1\n",
    "      if c!=t:\n",
    "        cnt_t+=1\n",
    "    if cnt_s==cnt_t and cnt_s>0:\n",
    "      print(tobin(i,N))\n",
    "      exist_ans=True\n",
    "      break\n",
    "\n",
    "    \n",
    "    \n"
   ]
  },
  {
   "cell_type": "code",
   "execution_count": 1,
   "metadata": {},
   "outputs": [
    {
     "name": "stdout",
     "output_type": "stream",
     "text": [
      "1\n"
     ]
    }
   ],
   "source": [
    "# バケットのサイズ\n",
    "M=101\n",
    "\n",
    "#にゅう力サイズ\n",
    "N=int(input())\n",
    "\n",
    "\n",
    "exist = [0]*M\n",
    "\n",
    "for i in range(N):\n",
    "  d = int(input())\n",
    "\n",
    "  #バケットを更新\n",
    "  exist[d]=1\n",
    "\n",
    "\n",
    "print(sum(exist))\n",
    "\n",
    "\n",
    "\n",
    "\n",
    "\n",
    "\n",
    "\n",
    "\n",
    "\n",
    "\n",
    "\n"
   ]
  },
  {
   "cell_type": "code",
   "execution_count": 15,
   "metadata": {},
   "outputs": [
    {
     "name": "stdout",
     "output_type": "stream",
     "text": [
      "cat 1\n",
      "cow 2\n",
      "dog 1\n",
      "lion 1\n",
      "zabra 1\n"
     ]
    }
   ],
   "source": [
    "from collections import defaultdict\n",
    "\n",
    "\n",
    "#文字列データ\n",
    "a=[\"cat\",\"cow\",\"dog\",\"lion\",\"zabra\",\"cow\"]\n",
    "\n",
    "num = defaultdict(int)\n",
    "\n",
    "for s in a:\n",
    "  num[s]+=1\n",
    "\n",
    "for key in num:\n",
    "  print(key,num[key])\n",
    "\n",
    "\n",
    "\n",
    "\n",
    "\n",
    "\n",
    "\n",
    "\n"
   ]
  },
  {
   "cell_type": "code",
   "execution_count": 17,
   "metadata": {},
   "outputs": [
    {
     "name": "stdout",
     "output_type": "stream",
     "text": [
      "1\n"
     ]
    }
   ],
   "source": [
    "from collections import defaultdict\n",
    "N=int(input())\n",
    "num = defaultdict(int)\n",
    "\n",
    "for i in range(N):\n",
    "  s=sorted(input())\n",
    "  temp=''\n",
    "  for i in s:\n",
    "    temp+=i\n",
    "  num[temp]+=1\n",
    "\n",
    "  \n",
    "cnt=0\n",
    "for key in num:\n",
    "  if(num[key]>1):\n",
    "    cnt+=num[key]-1\n",
    "print(cnt)\n",
    "\n",
    "\n",
    "\n",
    "\n",
    "\n",
    "\n"
   ]
  },
  {
   "cell_type": "code",
   "execution_count": 20,
   "metadata": {},
   "outputs": [
    {
     "data": {
      "text/plain": [
       "0"
      ]
     },
     "execution_count": 20,
     "metadata": {},
     "output_type": "execute_result"
    }
   ],
   "source": [
    "temp=0\n",
    "for i in range(1-1):\n",
    "  temp+=i\n",
    "temp\n",
    "\n"
   ]
  },
  {
   "cell_type": "code",
   "execution_count": 21,
   "metadata": {},
   "outputs": [],
   "source": [
    "a=[\"a\",\"a\",\"a\"]\n",
    "s=\"\".join(a)"
   ]
  },
  {
   "cell_type": "code",
   "execution_count": 71,
   "metadata": {},
   "outputs": [
    {
     "name": "stdout",
     "output_type": "stream",
     "text": [
      "2\n"
     ]
    }
   ],
   "source": [
    "#https://atcoder.jp/contests/abc206/tasks/abc206_c\n",
    "\n",
    "from collections import defaultdict\n",
    "N=int(input())\n",
    "num = defaultdict(int)\n",
    "A=list(map(int,input().split()))\n",
    "for i in A:\n",
    "  num[i]+=1\n",
    "cnt=0\n",
    "\n",
    "\n",
    "all_p= (N*(N-1))/2\n",
    "\n",
    "p=0\n",
    "for key in num:\n",
    "  p+=(num[key]*(num[key]-1))/2\n",
    "\n",
    "\n",
    "print(int(all_p-p))\n"
   ]
  },
  {
   "cell_type": "markdown",
   "metadata": {},
   "source": []
  },
  {
   "cell_type": "code",
   "execution_count": 69,
   "metadata": {},
   "outputs": [
    {
     "ename": "NameError",
     "evalue": "name 'factorial' is not defined",
     "output_type": "error",
     "traceback": [
      "\u001b[1;31m---------------------------------------------------------------------------\u001b[0m",
      "\u001b[1;31mNameError\u001b[0m                                 Traceback (most recent call last)",
      "\u001b[1;32m<ipython-input-69-3fd9b1939623>\u001b[0m in \u001b[0;36m<module>\u001b[1;34m\u001b[0m\n\u001b[1;32m----> 1\u001b[1;33m \u001b[0mfactorial\u001b[0m\u001b[1;33m(\u001b[0m\u001b[1;36m3\u001b[0m\u001b[1;33m)\u001b[0m\u001b[1;33m\u001b[0m\u001b[1;33m\u001b[0m\u001b[0m\n\u001b[0m",
      "\u001b[1;31mNameError\u001b[0m: name 'factorial' is not defined"
     ]
    }
   ],
   "source": [
    "factorial(3)"
   ]
  },
  {
   "cell_type": "code",
   "execution_count": 29,
   "metadata": {},
   "outputs": [],
   "source": [
    "cnt=0\n",
    "for i in range(10):\n",
    "  cnt+=i"
   ]
  },
  {
   "cell_type": "code",
   "execution_count": 30,
   "metadata": {},
   "outputs": [
    {
     "data": {
      "text/plain": [
       "45"
      ]
     },
     "execution_count": 30,
     "metadata": {},
     "output_type": "execute_result"
    }
   ],
   "source": [
    "cnt"
   ]
  },
  {
   "cell_type": "code",
   "execution_count": null,
   "metadata": {},
   "outputs": [],
   "source": []
  }
 ],
 "metadata": {
  "kernelspec": {
   "display_name": "Python 3.8.10 64-bit (microsoft store)",
   "language": "python",
   "name": "python3"
  },
  "language_info": {
   "codemirror_mode": {
    "name": "ipython",
    "version": 3
   },
   "file_extension": ".py",
   "mimetype": "text/x-python",
   "name": "python",
   "nbconvert_exporter": "python",
   "pygments_lexer": "ipython3",
   "version": "3.8.10"
  },
  "orig_nbformat": 4,
  "vscode": {
   "interpreter": {
    "hash": "71772156d6d262da57445e4f3782064f83fce1c6f275c7dac2dfabc23d7f933d"
   }
  }
 },
 "nbformat": 4,
 "nbformat_minor": 2
}
