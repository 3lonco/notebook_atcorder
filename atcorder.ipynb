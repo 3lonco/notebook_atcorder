{
 "cells": [
  {
   "cell_type": "markdown",
   "metadata": {},
   "source": [
    "## 5-6 累積和\n",
    "https://atcoder.jp/contests/abc122/tasks/abc122_c\n",
    "\n",
    "累積和　サイズの配列に対して、次のように定義されるサイズN+1の配列S\n",
    "\n",
    "s[0]=0\n",
    "\n",
    "\n",
    "S[1]=A[0]\n",
    "\n",
    "\n",
    "・\n",
    "・\n",
    "・\n",
    "\n",
    "\n",
    "$S[N]=A[0] \\cdots A[N-1]$\n",
    "\n",
    "最初はゼロにすること\n"
   ]
  },
  {
   "cell_type": "code",
   "execution_count": 1,
   "metadata": {},
   "outputs": [
    {
     "ename": "NameError",
     "evalue": "name 'N' is not defined",
     "output_type": "error",
     "traceback": [
      "\u001b[1;31m---------------------------------------------------------------------------\u001b[0m",
      "\u001b[1;31mNameError\u001b[0m                                 Traceback (most recent call last)",
      "\u001b[1;32m<ipython-input-1-c6a75222f556>\u001b[0m in \u001b[0;36m<module>\u001b[1;34m\u001b[0m\n\u001b[1;32m----> 1\u001b[1;33m \u001b[0mS\u001b[0m \u001b[1;33m=\u001b[0m\u001b[1;33m[\u001b[0m\u001b[1;36m0\u001b[0m\u001b[1;33m]\u001b[0m \u001b[1;33m*\u001b[0m \u001b[1;33m(\u001b[0m\u001b[0mN\u001b[0m\u001b[1;33m+\u001b[0m\u001b[1;36m1\u001b[0m\u001b[1;33m)\u001b[0m\u001b[1;33m\u001b[0m\u001b[1;33m\u001b[0m\u001b[0m\n\u001b[0m\u001b[0;32m      2\u001b[0m \u001b[1;32mfor\u001b[0m \u001b[0mi\u001b[0m \u001b[1;32min\u001b[0m \u001b[0mrange\u001b[0m\u001b[1;33m(\u001b[0m\u001b[0mN\u001b[0m\u001b[1;33m)\u001b[0m\u001b[1;33m:\u001b[0m\u001b[1;33m\u001b[0m\u001b[1;33m\u001b[0m\u001b[0m\n\u001b[0;32m      3\u001b[0m   \u001b[0mS\u001b[0m\u001b[1;33m[\u001b[0m\u001b[0mi\u001b[0m\u001b[1;33m+\u001b[0m\u001b[1;36m1\u001b[0m\u001b[1;33m]\u001b[0m\u001b[1;33m=\u001b[0m\u001b[0mS\u001b[0m\u001b[1;33m[\u001b[0m\u001b[0mi\u001b[0m\u001b[1;33m]\u001b[0m\u001b[1;33m+\u001b[0m\u001b[0mA\u001b[0m\u001b[1;33m[\u001b[0m\u001b[0mi\u001b[0m\u001b[1;33m]\u001b[0m\u001b[1;33m\u001b[0m\u001b[1;33m\u001b[0m\u001b[0m\n",
      "\u001b[1;31mNameError\u001b[0m: name 'N' is not defined"
     ]
    }
   ],
   "source": [
    "S = [0] * (N + 1)\n",
    "for i in range(N):\n",
    "    S[i + 1] = S[i] + A[i]"
   ]
  },
  {
   "cell_type": "markdown",
   "metadata": {},
   "source": [
    "#### 区間クエリとは\n",
    "整数l,rが与えられたときに[l,r)のそうわを求めよ\n",
    "\n",
    "\n",
    "[l、r)はA[1]からA[r-1]のことをさす\n",
    "これはpython3だと\n",
    "A[l:r]\n",
    "\n",
    "\n",
    "\n",
    "\n"
   ]
  },
  {
   "cell_type": "markdown",
   "metadata": {},
   "source": [
    "### 問題文\n",
    "\n",
    "\n",
    "A, C, G, T からなる長さ N の文字列 S が与えられます。以下の Q 個の問いに答えてください。\n",
    "\n",
    "問 i (1≤i≤Q): 整数 $l_i,r_i$\n",
    "​\n",
    "$  (1≤l_i<r_i≤N) が与えられる。$\n",
    "$  S の先頭から l_i文字目から r_i$\n",
    "​\n",
    "文字目までの (両端含む) 部分文字列を考える。この文字列に AC は部分文字列として何回現れるか。\n",
    "\n",
    "\n",
    "### 注記\n",
    "文字列 T の部分文字列とは、T の先頭と末尾から 0 文字以上を取り去って得られる文字列です。\n",
    "\n",
    "例えば、ATCODER の部分文字列には TCO, AT, CODER, ATCODER, (空文字列) が含まれ、AC は含まれません。\n",
    "\n",
    "### 制約\n",
    "\n",
    "\n",
    "$2≤N≤10^5$\n",
    " \n",
    "$1≤Q≤10^5$\n",
    "\n",
    "\n",
    "S は長さ N の文字列である。\n",
    "\n",
    "\n",
    "S の各文字は A, C, G, T のいずれかである。\n",
    "\n",
    "\n",
    "$1≤l_i<r_i≤N$\n",
    "\n",
    "\n",
    "### 入力\n",
    "N Q\n",
    "\n",
    "\n",
    "S\n",
    "\n",
    "\n",
    "$l_1 r_1$\n",
    "\n",
    "\n",
    "$l_Q r_Q$\n",
    "\n",
    "\n",
    "### 出力\n",
    "Q行を出力。i 行目に問 i への答えを出力すること。\n",
    "\n",
    "\n",
    "### 乳りょっくれい1\n",
    "8 3\n",
    "\n",
    "\n",
    "ACACTACG\n",
    "\n",
    "\n",
    "3 7\n",
    "\n",
    "\n",
    "2 3\n",
    "\n",
    "\n",
    "1 8\n",
    "\n",
    "\n",
    "### 出力〇\n",
    "2\n",
    "0\n",
    "3"
   ]
  },
  {
   "cell_type": "code",
   "execution_count": null,
   "metadata": {},
   "outputs": [],
   "source": []
  },
  {
   "cell_type": "code",
   "execution_count": 20,
   "metadata": {},
   "outputs": [
    {
     "ename": "TypeError",
     "evalue": "'builtin_function_or_method' object is not iterable",
     "output_type": "error",
     "traceback": [
      "\u001b[1;31m---------------------------------------------------------------------------\u001b[0m",
      "\u001b[1;31mTypeError\u001b[0m                                 Traceback (most recent call last)",
      "\u001b[1;32m<ipython-input-20-462730b7d307>\u001b[0m in \u001b[0;36m<module>\u001b[1;34m\u001b[0m\n\u001b[0;32m      6\u001b[0m   \u001b[0mcs\u001b[0m\u001b[1;33m[\u001b[0m\u001b[0mi\u001b[0m\u001b[1;33m+\u001b[0m\u001b[1;36m1\u001b[0m\u001b[1;33m]\u001b[0m\u001b[1;33m=\u001b[0m\u001b[0mcs\u001b[0m\u001b[1;33m[\u001b[0m\u001b[0mi\u001b[0m\u001b[1;33m]\u001b[0m\u001b[1;33m+\u001b[0m\u001b[1;33m(\u001b[0m\u001b[0mS\u001b[0m\u001b[1;33m[\u001b[0m\u001b[0mi\u001b[0m\u001b[1;33m-\u001b[0m\u001b[1;36m1\u001b[0m\u001b[1;33m:\u001b[0m\u001b[0mi\u001b[0m\u001b[1;33m+\u001b[0m\u001b[1;36m1\u001b[0m\u001b[1;33m]\u001b[0m\u001b[1;33m==\u001b[0m\u001b[1;34m\"AC\"\u001b[0m\u001b[1;33m)\u001b[0m\u001b[1;33m\u001b[0m\u001b[1;33m\u001b[0m\u001b[0m\n\u001b[0;32m      7\u001b[0m \u001b[1;33m\u001b[0m\u001b[0m\n\u001b[1;32m----> 8\u001b[1;33m   \u001b[0ml\u001b[0m\u001b[1;33m,\u001b[0m\u001b[0mr\u001b[0m\u001b[1;33m=\u001b[0m\u001b[0mmap\u001b[0m\u001b[1;33m(\u001b[0m\u001b[0mint\u001b[0m\u001b[1;33m,\u001b[0m\u001b[0minput\u001b[0m\u001b[1;33m(\u001b[0m\u001b[1;33m)\u001b[0m\u001b[1;33m.\u001b[0m\u001b[0msplit\u001b[0m\u001b[1;33m)\u001b[0m\u001b[1;33m\u001b[0m\u001b[1;33m\u001b[0m\u001b[0m\n\u001b[0m\u001b[0;32m      9\u001b[0m \u001b[1;33m\u001b[0m\u001b[0m\n",
      "\u001b[1;31mTypeError\u001b[0m: 'builtin_function_or_method' object is not iterable"
     ]
    }
   ],
   "source": [
    "N, Q = map(int, input().split())\n",
    "S = input()\n",
    "\n",
    "cs = [0] * (N + 1)\n",
    "for i in range(1, N):\n",
    "    cs[i + 1] = cs[i] + (S[i - 1 : i + 1] == \"AC\")\n",
    "\n",
    "for q in range(Q):\n",
    "    l, r = map(\n",
    "        int,\n",
    "    )\n",
    "l, r = map(int, input().split)"
   ]
  },
  {
   "cell_type": "code",
   "execution_count": 36,
   "metadata": {},
   "outputs": [
    {
     "name": "stdout",
     "output_type": "stream",
     "text": [
      "11\n"
     ]
    }
   ],
   "source": [
    "N = int(input())\n",
    "s = list(map(int, input().split()))\n",
    "\n",
    "sum = 0\n",
    "for i in s:\n",
    "    sum += i\n",
    "print(sum)"
   ]
  },
  {
   "cell_type": "code",
   "execution_count": 34,
   "metadata": {},
   "outputs": [
    {
     "ename": "TypeError",
     "evalue": "unsupported operand type(s) for +=: 'builtin_function_or_method' and 'list'",
     "output_type": "error",
     "traceback": [
      "\u001b[1;31m---------------------------------------------------------------------------\u001b[0m",
      "\u001b[1;31mTypeError\u001b[0m                                 Traceback (most recent call last)",
      "\u001b[1;32m<ipython-input-34-6f3f16c938b6>\u001b[0m in \u001b[0;36m<module>\u001b[1;34m\u001b[0m\n\u001b[1;32m----> 1\u001b[1;33m \u001b[0msum\u001b[0m\u001b[1;33m+=\u001b[0m\u001b[0ms\u001b[0m\u001b[1;33m[\u001b[0m\u001b[1;33m:\u001b[0m\u001b[1;33m]\u001b[0m\u001b[1;33m\u001b[0m\u001b[1;33m\u001b[0m\u001b[0m\n\u001b[0m",
      "\u001b[1;31mTypeError\u001b[0m: unsupported operand type(s) for +=: 'builtin_function_or_method' and 'list'"
     ]
    }
   ],
   "source": []
  },
  {
   "cell_type": "code",
   "execution_count": 63,
   "metadata": {},
   "outputs": [
    {
     "name": "stdout",
     "output_type": "stream",
     "text": [
      "FF\n"
     ]
    }
   ],
   "source": [
    "N = int(input())\n",
    "s = hex(N)\n",
    "if N < 16:\n",
    "    print(\"0\" + s[-1].upper())\n",
    "else:\n",
    "    print(s[2:4].upper())"
   ]
  },
  {
   "cell_type": "markdown",
   "metadata": {},
   "source": []
  },
  {
   "cell_type": "code",
   "execution_count": 129,
   "metadata": {},
   "outputs": [
    {
     "name": "stdout",
     "output_type": "stream",
     "text": [
      "2\n",
      "3\n",
      "4\n",
      "5\n",
      "8\n"
     ]
    }
   ],
   "source": [
    "N = int(input())\n",
    "A = map(int, input().split())\n",
    "\n",
    "e_1 = 0\n",
    "e_2 = 0\n",
    "\n",
    "o_1 = 0\n",
    "o_2 = 0\n",
    "\n",
    "flag = False\n",
    "for i in A:\n",
    "    print(i)\n",
    "    # if A[i] is even\n",
    "    if i % 2 == 0:\n",
    "        if i >= e_1:\n",
    "            e_2 = e_1\n",
    "            e_1 = i\n",
    "        elif i >= e_2:\n",
    "            e_2 = i\n",
    "\n",
    "    else:\n",
    "        if i >= o_1:\n",
    "            o_2 = o_1\n",
    "            o_1 = i\n",
    "        elif i >= o_2:\n",
    "            o_2 = i\n",
    "\n",
    "if o_2 == 0 and e_2 == 0:\n",
    "    print(-1)\n",
    "else:\n",
    "    ans = max(e_1 + e_2, o_1 + o_2)\n",
    "    print(ans)"
   ]
  },
  {
   "cell_type": "markdown",
   "metadata": {},
   "source": [
    "# Example 06 Shift Only\n",
    "https://atcoder.jp/contests/abc081/tasks/abc081_b\n",
    "\n",
    "## 問題文\n",
    "黒板に N 個の正の整数 A \n",
    "\n",
    "\n",
    "$1,...,A_N$\n",
    "​\n",
    "  が書かれています．\n",
    "\n",
    "すぬけ君は，黒板に書かれている整数がすべて偶数であるとき，次の操作を行うことができます．\n",
    "\n",
    "黒板に書かれている整数すべてを，2 で割ったものに置き換える．\n",
    "すぬけ君は最大で何回操作を行うことができるかを求めてください．\n",
    "\n",
    "制約\n",
    "$1≤N≤200$\n",
    "\n",
    "\n",
    "$1≤A_i≤10^9$\n",
    "\n",
    "\n",
    "## 入力\n",
    "入力は以下の形式で標準入力から与えられる。\n",
    "\n",
    "\n",
    "\n",
    "$N$\n",
    "\n",
    "\n",
    "$A_1 A2... A_N$\n",
    "\n",
    "##  出力\n",
    "すぬけ君は最大で何回操作を行うことができるかを出力せよ．\n",
    "\n",
    "## 入力例\n",
    "3\n",
    "\n",
    "8 12 40\n",
    "\n",
    "​\n",
    "\n",
    "## 出力零1\n",
    "2\n",
    "\n",
    "\n",
    "最初，黒板には [8,12,40] が書かれています． このとき，書かれている整数はすべて偶数なので，操作を行うことができます．\n",
    "\n",
    "1 回操作を行った後，黒板には [4,6,20] が書かれています． 再び，書かれている整数はすべて偶数なので，操作を行うことができます．\n",
    "\n",
    "2 回操作を行った後，黒板には [2,3,10] が書かれています． この時，奇数 3 が書かれているため，これ以上操作を行うことはできません．\n",
    "\n",
    "よって，すぬけ君は最大で 2 回操作を行うことができます．\n",
    "\n",
    "\n",
    "\n",
    " \n"
   ]
  },
  {
   "cell_type": "code",
   "execution_count": 7,
   "metadata": {},
   "outputs": [
    {
     "name": "stdout",
     "output_type": "stream",
     "text": [
      "8\n"
     ]
    }
   ],
   "source": [
    "N = int(input())\n",
    "A = list(map(int, input().split()))\n",
    "\n",
    "cnt = 0\n",
    "flag = True\n",
    "while flag == True:\n",
    "    for i in range(N):\n",
    "        if A[i] % 2 == 0:\n",
    "            A[i] /= 2\n",
    "        else:\n",
    "            flag = False\n",
    "            break\n",
    "\n",
    "    if flag == True:\n",
    "        cnt += 1\n",
    "\n",
    "print(cnt)"
   ]
  },
  {
   "cell_type": "markdown",
   "metadata": {},
   "source": [
    "## 模範解答2"
   ]
  },
  {
   "cell_type": "code",
   "execution_count": 2,
   "metadata": {},
   "outputs": [
    {
     "name": "stdout",
     "output_type": "stream",
     "text": [
      "1\n"
     ]
    }
   ],
   "source": [
    "def how_many_times(num):\n",
    "    # variable which shows how many times they are divided by 2\n",
    "    counter = 0\n",
    "\n",
    "    # keep dividing until they can be divided by 2\n",
    "    while num % 2 == 0:\n",
    "        # numを2で割る\n",
    "        num //= 2\n",
    "\n",
    "        # increase counter\n",
    "        counter += 1\n",
    "\n",
    "    return counter\n",
    "\n",
    "\n",
    "INF = 2 ** 30\n",
    "N = int(input())\n",
    "A = list(map(int, input().split()))\n",
    "\n",
    "result = INF\n",
    "\n",
    "for a in A:\n",
    "    # 2で割れる回数の最小値を求める\n",
    "    counter = how_many_times(a)\n",
    "    result = min(result, counter)\n",
    "\n",
    "print(result)"
   ]
  },
  {
   "cell_type": "code",
   "execution_count": 14,
   "metadata": {},
   "outputs": [
    {
     "name": "stdout",
     "output_type": "stream",
     "text": [
      "2\n"
     ]
    }
   ],
   "source": [
    "A = [2, 2, 3, 4]\n",
    "\n",
    "\n",
    "def printer(a):\n",
    "    return a\n",
    "\n",
    "\n",
    "s = min(map(printer, A))\n",
    "print(s)"
   ]
  },
  {
   "cell_type": "markdown",
   "metadata": {},
   "source": [
    "# Example 07 Card Game 4 Two\n",
    "https://atcoder.jp/contests/abc088/tasks/abc088_b"
   ]
  },
  {
   "cell_type": "code",
   "execution_count": 22,
   "metadata": {},
   "outputs": [
    {
     "name": "stdout",
     "output_type": "stream",
     "text": [
      "18\n"
     ]
    }
   ],
   "source": [
    "# 自分の解答\n",
    "N = int(input())\n",
    "a = list(map(int, input().split()))\n",
    "a.sort(reverse=True)\n",
    "alice = 0\n",
    "bob = 0\n",
    "for i in range(N):\n",
    "    if i % 2 == 0:\n",
    "        alice += a[i]\n",
    "    else:\n",
    "        bob += a[i]\n",
    "\n",
    "print(alice - bob)"
   ]
  },
  {
   "cell_type": "markdown",
   "metadata": {},
   "source": [
    "# 132 Dived the problems\n",
    "https://atcoder.jp/contests/abc132/tasks/abc132_c\n"
   ]
  },
  {
   "cell_type": "code",
   "execution_count": 30,
   "metadata": {},
   "outputs": [
    {
     "name": "stdout",
     "output_type": "stream",
     "text": [
      "2\n"
     ]
    }
   ],
   "source": [
    "# 自分の解答\n",
    "N = int(input())\n",
    "d = list(map(int, input().split()))\n",
    "d.sort()\n",
    "index = int(N / 2)\n",
    "print(d[index] - d[index - 1])"
   ]
  },
  {
   "cell_type": "markdown",
   "metadata": {},
   "source": [
    "\n",
    "# C - Christmas Eve\n",
    "\n",
    "https://atcoder.jp/contests/abc115/tasks/abc115_c"
   ]
  },
  {
   "cell_type": "code",
   "execution_count": 57,
   "metadata": {},
   "outputs": [
    {
     "name": "stdout",
     "output_type": "stream",
     "text": [
      "0 2\n",
      "1 3\n",
      "2 4\n",
      "0\n"
     ]
    }
   ],
   "source": [
    "N, K = map(int, input().split())\n",
    "a = []\n",
    "for i in range(N):\n",
    "    h = int(input())\n",
    "    a.append(h)\n",
    "a.sort()\n",
    "\n",
    "m = 1000000000\n",
    "for i in range(0, N + 1 - (K), 1):\n",
    "    res = a[K + i - 1] - a[i]\n",
    "    m = min(m, res)\n",
    "    if m == 0:\n",
    "        break\n",
    "\n",
    "print(m)"
   ]
  },
  {
   "cell_type": "code",
   "execution_count": 44,
   "metadata": {},
   "outputs": [
    {
     "name": "stdout",
     "output_type": "stream",
     "text": [
      "[10, 11, 12] 10 12\n"
     ]
    }
   ],
   "source": [
    "a = [10, 15, 11, 14, 12]\n",
    "a.sort()\n",
    "\n",
    "print(a[0:3], min(a[0:3]), max(a[0:3]))"
   ]
  },
  {
   "cell_type": "markdown",
   "metadata": {},
   "source": [
    "# C - Energy Drink\n",
    "https://atcoder.jp/contests/abc121"
   ]
  },
  {
   "cell_type": "code",
   "execution_count": 107,
   "metadata": {},
   "outputs": [
    {
     "name": "stdout",
     "output_type": "stream",
     "text": [
      "[(2, 5), (3, 10), (6, 18), (7, 9)]\n",
      "2 4 29\n",
      "4 3 28\n",
      "6 2 27\n",
      "8 1 26\n",
      "10 0 25\n",
      "13 9 24\n",
      "16 8 23\n",
      "19 7 22\n",
      "22 6 21\n",
      "25 5 20\n",
      "28 4 19\n",
      "31 3 18\n",
      "34 2 17\n",
      "37 1 16\n",
      "40 0 15\n",
      "46 17 14\n",
      "52 16 13\n",
      "58 15 12\n",
      "64 14 11\n",
      "70 13 10\n",
      "76 12 9\n",
      "82 11 8\n",
      "88 10 7\n",
      "94 9 6\n",
      "100 8 5\n",
      "106 7 4\n",
      "112 6 3\n",
      "118 5 2\n",
      "124 4 1\n",
      "130 3 0\n",
      "130\n"
     ]
    }
   ],
   "source": [
    "N, M = map(int, input().split())\n",
    "res = []\n",
    "for i in range(N):\n",
    "    a, b = map(int, input().split())\n",
    "    res.append((a, b))\n",
    "\n",
    "res.sort(key=lambda x: x[0])\n",
    "money = 0\n",
    "for cost, num in res:\n",
    "    while num > 0 and M > 0:\n",
    "        money += cost\n",
    "        num -= 1\n",
    "        M -= 1\n",
    "\n",
    "print(money)"
   ]
  },
  {
   "cell_type": "code",
   "execution_count": 93,
   "metadata": {},
   "outputs": [
    {
     "name": "stdout",
     "output_type": "stream",
     "text": [
      "2\n",
      "4\n",
      "2 4\n",
      "4 9\n"
     ]
    }
   ],
   "source": [
    "from matplotlib.pyplot import axis\n",
    "\n",
    "\n",
    "a = 1\n",
    "b = 3\n",
    "\n",
    "x = 2\n",
    "y = 5\n",
    "z = (x, y)\n",
    "c = (a, b)\n",
    "\n",
    "d = []\n",
    "\n",
    "d.append((4, 9))\n",
    "d.append((2, 4))\n",
    "d.sort(key=lambda x: x[0])\n",
    "print(len(d))\n",
    "print(d[0][1])\n",
    "\n",
    "\n",
    "for i, j in d:\n",
    "    print(i, j)"
   ]
  },
  {
   "cell_type": "markdown",
   "metadata": {},
   "source": []
  },
  {
   "cell_type": "markdown",
   "metadata": {},
   "source": [
    "# C-ID\n",
    "https://atcoder.jp/contests/abc113/tasks/abc113_c"
   ]
  },
  {
   "cell_type": "code",
   "execution_count": 108,
   "metadata": {},
   "outputs": [],
   "source": []
  },
  {
   "cell_type": "code",
   "execution_count": 125,
   "metadata": {},
   "outputs": [
    {
     "name": "stdout",
     "output_type": "stream",
     "text": [
      "[(2, 1, 12), (0, 1, 32), (1, 2, 63)]\n"
     ]
    }
   ],
   "source": [
    "print(id)\n",
    "temp = id"
   ]
  },
  {
   "cell_type": "code",
   "execution_count": 151,
   "metadata": {},
   "outputs": [
    {
     "name": "stdout",
     "output_type": "stream",
     "text": [
      "000001000002\n",
      "000002000001\n",
      "000001000001\n"
     ]
    }
   ],
   "source": [
    "N, M = map(int, input().split())\n",
    "id = []\n",
    "for i in range(M):\n",
    "    prefecture, year = map(int, input().split())\n",
    "    id.append((i, prefecture, year))\n",
    "p_tag = 1\n",
    "cnt = 1\n",
    "ans = []\n",
    "\n",
    "for index, prefecture, year in temp:\n",
    "    if prefecture == p_tag:\n",
    "        result = (index, prefecture, cnt)\n",
    "        ans.append(result)\n",
    "        cnt += 1\n",
    "    else:\n",
    "        cnt = 1\n",
    "        p_tag += 1\n",
    "        result = (index, prefecture, cnt)\n",
    "        ans.append(result)\n",
    "\n",
    "ans.sort(key=lambda x: x[0])\n",
    "\n",
    "\n",
    "for i, prefecture, year in ans:\n",
    "    str_p = str(prefecture)\n",
    "    zero_p = str_p.zfill(6)\n",
    "    str_y = str(year)\n",
    "    zero_y = str_y.zfill(6)\n",
    "    print(zero_p + zero_y)"
   ]
  },
  {
   "cell_type": "code",
   "execution_count": 147,
   "metadata": {},
   "outputs": [
    {
     "data": {
      "text/plain": [
       "'00000001'"
      ]
     },
     "execution_count": 147,
     "metadata": {},
     "output_type": "execute_result"
    }
   ],
   "source": [
    "s = \"1\"\n",
    "a = s.zfill(8)\n",
    "a"
   ]
  },
  {
   "cell_type": "markdown",
   "metadata": {},
   "source": [
    "# C - (K+1)-th Largest Number\n",
    "https://atcoder.jp/contests/abc273/tasks/abc273_c\n"
   ]
  },
  {
   "cell_type": "code",
   "execution_count": 21,
   "metadata": {},
   "outputs": [
    {
     "name": "stdout",
     "output_type": "stream",
     "text": [
      "[(2, 1, 0), (0, 2, 0), (4, 2, 0), (1, 7, 0), (3, 8, 0), (5, 8, 0)]\n",
      "0\n"
     ]
    },
    {
     "ename": "TypeError",
     "evalue": "'tuple' object does not support item assignment",
     "output_type": "error",
     "traceback": [
      "\u001b[1;31m---------------------------------------------------------------------------\u001b[0m",
      "\u001b[1;31mTypeError\u001b[0m                                 Traceback (most recent call last)",
      "\u001b[1;32m<ipython-input-21-c682a38e6271>\u001b[0m in \u001b[0;36m<module>\u001b[1;34m\u001b[0m\n\u001b[0;32m     14\u001b[0m       \u001b[0mprint\u001b[0m\u001b[1;33m(\u001b[0m\u001b[0mt\u001b[0m\u001b[1;33m[\u001b[0m\u001b[0mi\u001b[0m\u001b[1;33m]\u001b[0m\u001b[1;33m[\u001b[0m\u001b[1;36m2\u001b[0m\u001b[1;33m]\u001b[0m\u001b[1;33m)\u001b[0m\u001b[1;33m\u001b[0m\u001b[1;33m\u001b[0m\u001b[0m\n\u001b[0;32m     15\u001b[0m       \u001b[1;32mif\u001b[0m \u001b[0mj\u001b[0m \u001b[1;33m>\u001b[0m\u001b[0mtemp\u001b[0m\u001b[1;33m:\u001b[0m\u001b[1;33m\u001b[0m\u001b[1;33m\u001b[0m\u001b[0m\n\u001b[1;32m---> 16\u001b[1;33m         \u001b[0mt\u001b[0m\u001b[1;33m[\u001b[0m\u001b[0mi\u001b[0m\u001b[1;33m]\u001b[0m\u001b[1;33m[\u001b[0m\u001b[1;36m2\u001b[0m\u001b[1;33m]\u001b[0m\u001b[1;33m+=\u001b[0m\u001b[1;36m1\u001b[0m\u001b[1;33m\u001b[0m\u001b[1;33m\u001b[0m\u001b[0m\n\u001b[0m\u001b[0;32m     17\u001b[0m \u001b[1;33m\u001b[0m\u001b[0m\n\u001b[0;32m     18\u001b[0m \u001b[1;33m\u001b[0m\u001b[0m\n",
      "\u001b[1;31mTypeError\u001b[0m: 'tuple' object does not support item assignment"
     ]
    }
   ],
   "source": [
    "N = int(input())\n",
    "A = list(map(int, input().split()))\n",
    "t = []\n",
    "for id in range(N):\n",
    "    t.append((id, A[id], 0))\n",
    "\n",
    "t.sort(key=lambda x: x[1])\n",
    "print(t)\n",
    "s = set(A)\n",
    "\n",
    "for i in range(N):\n",
    "    temp = t[i][1]\n",
    "    for j in s:\n",
    "        if j > temp:\n",
    "            t[i][2] += 1"
   ]
  },
  {
   "cell_type": "code",
   "execution_count": 23,
   "metadata": {},
   "outputs": [
    {
     "name": "stdout",
     "output_type": "stream",
     "text": [
      "2\n"
     ]
    }
   ],
   "source": [
    "# https://atcoder.jp/contests/abc204/submissions/me\n",
    "x, y = map(int, input().split())\n",
    "\n",
    "ans = x + y\n",
    "\n",
    "if x == y:\n",
    "    print(x)\n",
    "else:\n",
    "    if ans == 1:\n",
    "        print(2)\n",
    "    if ans == 2:\n",
    "        print(1)\n",
    "    if ans == 3:\n",
    "        print(0)"
   ]
  },
  {
   "cell_type": "code",
   "execution_count": 24,
   "metadata": {},
   "outputs": [],
   "source": [
    "# https://atcoder.jp/contests/abc204/tasks/abc204_b\n",
    "N = int(input())\n",
    "A = list(map(int, input().split()))\n",
    "\n",
    "total = 0\n",
    "for m in A:\n",
    "    if m > 10:\n",
    "        total += m - 10\n",
    "\n",
    "print(total)"
   ]
  },
  {
   "cell_type": "code",
   "execution_count": null,
   "metadata": {},
   "outputs": [],
   "source": [
    "# https://atcoder.jp/contests/abc204/tasks/abc204_c#"
   ]
  },
  {
   "cell_type": "code",
   "execution_count": 25,
   "metadata": {},
   "outputs": [],
   "source": [
    "# https://atcoder.jp/contests/arc151/tasks/arc151_a"
   ]
  },
  {
   "cell_type": "code",
   "execution_count": 29,
   "metadata": {},
   "outputs": [],
   "source": [
    "test = input()"
   ]
  },
  {
   "cell_type": "code",
   "execution_count": 30,
   "metadata": {},
   "outputs": [
    {
     "data": {
      "text/plain": [
       "'00100'"
      ]
     },
     "execution_count": 30,
     "metadata": {},
     "output_type": "execute_result"
    }
   ],
   "source": [
    "test"
   ]
  },
  {
   "cell_type": "code",
   "execution_count": 129,
   "metadata": {},
   "outputs": [],
   "source": []
  },
  {
   "cell_type": "code",
   "execution_count": 142,
   "metadata": {},
   "outputs": [
    {
     "name": "stdout",
     "output_type": "stream",
     "text": [
      "00001\n"
     ]
    }
   ],
   "source": [
    "def tobin(x, N):\n",
    "    num = bin(x)\n",
    "    aa = \"\"\n",
    "    flag = False\n",
    "    for i in num:\n",
    "        if flag == True:\n",
    "            aa += i\n",
    "        if i == \"b\":\n",
    "            flag = True\n",
    "    ans = aa.zfill(N)\n",
    "    return ans\n",
    "\n",
    "\n",
    "def check(S, T, N):\n",
    "    for i in range(N):\n",
    "        s = int(S[i])\n",
    "        t = int(S[i])\n",
    "        if s + t != 1:\n",
    "            return False\n",
    "    return True\n",
    "\n",
    "\n",
    "N = int(input())\n",
    "S = input()\n",
    "T = input()\n",
    "if check(S, T, N) == False:\n",
    "    print(-1)\n",
    "else:\n",
    "    ans = 20000001\n",
    "    exist_ans = False\n",
    "    for i in range(0, N):\n",
    "        cnt_s = 0\n",
    "        cnt_t = 0\n",
    "        C = tobin(i, N)\n",
    "        for j in range(N):\n",
    "            s = int(S[j])\n",
    "            t = int(T[j])\n",
    "            c = int(C[j])\n",
    "            if c != s:\n",
    "                cnt_s += 1\n",
    "            if c != t:\n",
    "                cnt_t += 1\n",
    "        if cnt_s == cnt_t and cnt_s > 0:\n",
    "            ans = min(ans, i)\n",
    "            exist_ans = True\n",
    "    if exist_ans == True:\n",
    "        print(tobin(ans, N))\n",
    "    else:\n",
    "        print(-1)"
   ]
  },
  {
   "cell_type": "code",
   "execution_count": 123,
   "metadata": {},
   "outputs": [
    {
     "name": "stdout",
     "output_type": "stream",
     "text": [
      "0\n",
      "b\n",
      "0\n",
      "len 1\n",
      "00000\n"
     ]
    }
   ],
   "source": [
    "N, M = map(int, input().split())\n",
    "P = list(map(int, input().split()))"
   ]
  },
  {
   "cell_type": "code",
   "execution_count": 114,
   "metadata": {},
   "outputs": [
    {
     "data": {
      "text/plain": [
       "'0b0'"
      ]
     },
     "execution_count": 114,
     "metadata": {},
     "output_type": "execute_result"
    }
   ],
   "source": [
    "ans = bin(0)\n",
    "ans"
   ]
  },
  {
   "cell_type": "code",
   "execution_count": 152,
   "metadata": {},
   "outputs": [
    {
     "data": {
      "text/plain": [
       "False"
      ]
     },
     "execution_count": 152,
     "metadata": {},
     "output_type": "execute_result"
    }
   ],
   "source": []
  },
  {
   "cell_type": "code",
   "execution_count": 146,
   "metadata": {},
   "outputs": [
    {
     "data": {
      "text/plain": [
       "10"
      ]
     },
     "execution_count": 146,
     "metadata": {},
     "output_type": "execute_result"
    }
   ],
   "source": [
    "S\n",
    "T"
   ]
  },
  {
   "cell_type": "code",
   "execution_count": 177,
   "metadata": {},
   "outputs": [
    {
     "name": "stdout",
     "output_type": "stream",
     "text": [
      "00001\n"
     ]
    }
   ],
   "source": [
    "def tobin(x, N):\n",
    "    num = bin(x)\n",
    "    aa = \"\"\n",
    "    flag = False\n",
    "    for i in num:\n",
    "        if flag == True:\n",
    "            aa += i\n",
    "        if i == \"b\":\n",
    "            flag = True\n",
    "    ans = aa.zfill(N)\n",
    "    return ans\n",
    "\n",
    "\n",
    "def check(S, T, N):\n",
    "    cnt = 0\n",
    "    for i in range(N):\n",
    "        s = int(S[i])\n",
    "        t = int(T[i])\n",
    "        if s + t == 1:\n",
    "            cnt += 1\n",
    "    if cnt == N:\n",
    "        return False\n",
    "    else:\n",
    "        return True\n",
    "\n",
    "\n",
    "N = int(input())\n",
    "S = input()\n",
    "T = input()\n",
    "if check(S, T, N) == False:\n",
    "    print(-1)\n",
    "\n",
    "else:\n",
    "    exist_ans = False\n",
    "    for i in range(0, N):\n",
    "        cnt_s = 0\n",
    "        cnt_t = 0\n",
    "        C = tobin(i, N)\n",
    "        for j in range(N):\n",
    "            s = int(S[j])\n",
    "            t = int(T[j])\n",
    "            c = int(C[j])\n",
    "            if c != s:\n",
    "                cnt_s += 1\n",
    "            if c != t:\n",
    "                cnt_t += 1\n",
    "        if cnt_s == cnt_t and cnt_s > 0:\n",
    "            print(tobin(i, N))\n",
    "            exist_ans = True\n",
    "            break"
   ]
  },
  {
   "cell_type": "code",
   "execution_count": 1,
   "metadata": {},
   "outputs": [
    {
     "name": "stdout",
     "output_type": "stream",
     "text": [
      "1\n"
     ]
    }
   ],
   "source": [
    "# バケットのサイズ\n",
    "M = 101\n",
    "\n",
    "# にゅう力サイズ\n",
    "N = int(input())\n",
    "\n",
    "\n",
    "exist = [0] * M\n",
    "\n",
    "for i in range(N):\n",
    "    d = int(input())\n",
    "\n",
    "    # バケットを更新\n",
    "    exist[d] = 1\n",
    "\n",
    "\n",
    "print(sum(exist))"
   ]
  },
  {
   "cell_type": "code",
   "execution_count": 15,
   "metadata": {},
   "outputs": [
    {
     "name": "stdout",
     "output_type": "stream",
     "text": [
      "cat 1\n",
      "cow 2\n",
      "dog 1\n",
      "lion 1\n",
      "zabra 1\n"
     ]
    }
   ],
   "source": [
    "from collections import defaultdict\n",
    "\n",
    "\n",
    "# 文字列データ\n",
    "a = [\"cat\", \"cow\", \"dog\", \"lion\", \"zabra\", \"cow\"]\n",
    "\n",
    "num = defaultdict(int)\n",
    "\n",
    "for s in a:\n",
    "    num[s] += 1\n",
    "\n",
    "for key in num:\n",
    "    print(key, num[key])"
   ]
  },
  {
   "cell_type": "code",
   "execution_count": 17,
   "metadata": {},
   "outputs": [
    {
     "name": "stdout",
     "output_type": "stream",
     "text": [
      "1\n"
     ]
    }
   ],
   "source": [
    "from collections import defaultdict\n",
    "\n",
    "N = int(input())\n",
    "num = defaultdict(int)\n",
    "\n",
    "for i in range(N):\n",
    "    s = sorted(input())\n",
    "    temp = \"\"\n",
    "    for i in s:\n",
    "        temp += i\n",
    "    num[temp] += 1\n",
    "\n",
    "\n",
    "cnt = 0\n",
    "for key in num:\n",
    "    if num[key] > 1:\n",
    "        cnt += num[key] - 1\n",
    "print(cnt)"
   ]
  },
  {
   "cell_type": "code",
   "execution_count": 20,
   "metadata": {},
   "outputs": [
    {
     "data": {
      "text/plain": [
       "0"
      ]
     },
     "execution_count": 20,
     "metadata": {},
     "output_type": "execute_result"
    }
   ],
   "source": [
    "temp = 0\n",
    "for i in range(1 - 1):\n",
    "    temp += i\n",
    "temp"
   ]
  },
  {
   "cell_type": "code",
   "execution_count": 21,
   "metadata": {},
   "outputs": [],
   "source": [
    "a = [\"a\", \"a\", \"a\"]\n",
    "s = \"\".join(a)"
   ]
  },
  {
   "cell_type": "code",
   "execution_count": 71,
   "metadata": {},
   "outputs": [
    {
     "name": "stdout",
     "output_type": "stream",
     "text": [
      "2\n"
     ]
    }
   ],
   "source": [
    "# https://atcoder.jp/contests/abc206/tasks/abc206_c\n",
    "\n",
    "from collections import defaultdict\n",
    "\n",
    "N = int(input())\n",
    "num = defaultdict(int)\n",
    "A = list(map(int, input().split()))\n",
    "for i in A:\n",
    "    num[i] += 1\n",
    "cnt = 0\n",
    "\n",
    "\n",
    "all_p = (N * (N - 1)) / 2\n",
    "\n",
    "p = 0\n",
    "for key in num:\n",
    "    p += (num[key] * (num[key] - 1)) / 2\n",
    "\n",
    "\n",
    "print(int(all_p - p))"
   ]
  },
  {
   "cell_type": "markdown",
   "metadata": {},
   "source": []
  },
  {
   "cell_type": "code",
   "execution_count": 69,
   "metadata": {},
   "outputs": [
    {
     "ename": "NameError",
     "evalue": "name 'factorial' is not defined",
     "output_type": "error",
     "traceback": [
      "\u001b[1;31m---------------------------------------------------------------------------\u001b[0m",
      "\u001b[1;31mNameError\u001b[0m                                 Traceback (most recent call last)",
      "\u001b[1;32m<ipython-input-69-3fd9b1939623>\u001b[0m in \u001b[0;36m<module>\u001b[1;34m\u001b[0m\n\u001b[1;32m----> 1\u001b[1;33m \u001b[0mfactorial\u001b[0m\u001b[1;33m(\u001b[0m\u001b[1;36m3\u001b[0m\u001b[1;33m)\u001b[0m\u001b[1;33m\u001b[0m\u001b[1;33m\u001b[0m\u001b[0m\n\u001b[0m",
      "\u001b[1;31mNameError\u001b[0m: name 'factorial' is not defined"
     ]
    }
   ],
   "source": [
    "factorial(3)"
   ]
  },
  {
   "cell_type": "code",
   "execution_count": 29,
   "metadata": {},
   "outputs": [],
   "source": [
    "cnt = 0\n",
    "for i in range(10):\n",
    "    cnt += i"
   ]
  },
  {
   "cell_type": "code",
   "execution_count": 30,
   "metadata": {},
   "outputs": [
    {
     "data": {
      "text/plain": [
       "45"
      ]
     },
     "execution_count": 30,
     "metadata": {},
     "output_type": "execute_result"
    }
   ],
   "source": [
    "cnt"
   ]
  },
  {
   "cell_type": "code",
   "execution_count": 17,
   "metadata": {},
   "outputs": [
    {
     "name": "stdout",
     "output_type": "stream",
     "text": [
      "3\n"
     ]
    }
   ],
   "source": [
    "N,M = map(int,input().split())\n",
    "d = [False]*(N+1)\n",
    "for i in range(M):\n",
    "    temp=int(input())\n",
    "    d[temp]=True\n",
    "\n",
    "\n",
    "dp=[0]*(N+1)\n",
    "\n",
    "def rec(n):\n",
    "\n",
    "    if n==N:\n",
    "        dp[N] +=1\n",
    "        return 0\n",
    "    \n",
    "    if d[n]==True:\n",
    "        return 0\n",
    "    \n",
    "    if n+1<=N:\n",
    "        rec(n+1)\n",
    "    if n+2<=N:\n",
    "        rec(n+2)\n",
    "    return 0\n",
    "    \n",
    "\n",
    "rec(0)\n",
    "print(dp[N])\n",
    "\n",
    "\n",
    "\n"
   ]
  },
  {
   "cell_type": "code",
   "execution_count": 12,
   "metadata": {},
   "outputs": [
    {
     "name": "stdout",
     "output_type": "stream",
     "text": [
      "2\n",
      "dp 2 : [1, 1, 2, 0, 0, 0, 0]\n",
      "3\n",
      "dp 3 : [1, 1, 2, 3, 0, 0, 0]\n",
      "4\n",
      "dp 4 : [1, 1, 2, 3, 2, 0, 0]\n",
      "5\n",
      "dp 5 : [1, 1, 2, 3, 2, 2, 0]\n",
      "6\n",
      "dp 6 : [1, 1, 2, 3, 2, 2, 4]\n",
      "4\n"
     ]
    }
   ],
   "source": [
    "N,M = map(int,input().split())\n",
    "issafe = [True]*(N+1)\n",
    "for i in range(0,M,1):\n",
    "    temp=int(input())\n",
    "    issafe[temp]=False\n",
    "MOD = 1000000007\n",
    "dp= [0] * (N+1)\n",
    "\n",
    "#Initial condition\n",
    "dp[0] =1\n",
    "if  issafe[1] ==True:\n",
    "    dp[1] = 1\n",
    "\n",
    "for n in range(2,N+1,1):\n",
    "    print(n)\n",
    "    if issafe[n-1]:\n",
    "        dp[n] += dp[n-1]\n",
    "    if issafe[n-2]:\n",
    "        dp[n] += dp[n-2]\n",
    "    dp[n] %= MOD    \n",
    "    print(\"dp\",n,\":\",dp[:])\n",
    "\n",
    "print(dp[N])\n",
    "    \n",
    "\n",
    "\n",
    "\n",
    "\n"
   ]
  },
  {
   "cell_type": "code",
   "execution_count": 16,
   "metadata": {},
   "outputs": [
    {
     "name": "stdout",
     "output_type": "stream",
     "text": [
      "Yes\n"
     ]
    }
   ],
   "source": [
    "N,X=map(int,input().split())\n",
    "A = map(int,input().split())\n",
    "\n",
    "flag=False\n",
    "for i in A:\n",
    "    if i ==X:\n",
    "        flag=True\n",
    "        print(\"Yes\")\n",
    "        break\n",
    "\n",
    "if flag!=True:\n",
    "    print(\"No\")\n"
   ]
  },
  {
   "cell_type": "code",
   "execution_count": 19,
   "metadata": {},
   "outputs": [
    {
     "name": "stdout",
     "output_type": "stream",
     "text": [
      "No\n"
     ]
    }
   ],
   "source": [
    "def check(P,Q,K):\n",
    "    for i in P:\n",
    "        for j in Q:\n",
    "            if i +j==K:\n",
    "                return 0\n",
    "    return -1\n",
    "\n",
    "N,K=map(int,input().split())\n",
    "P = map(int,input().split())\n",
    "Q = map(int,input().split())\n",
    "\n",
    "\n",
    "\n",
    "\n",
    "if check(P,Q,K)==0:\n",
    "    print(\"Yes\")\n",
    "else:\n",
    "    print(\"No\")\n",
    "\n",
    "\n"
   ]
  },
  {
   "cell_type": "code",
   "execution_count": 32,
   "metadata": {},
   "outputs": [
    {
     "name": "stdout",
     "output_type": "stream",
     "text": [
      "<class 'str'>\n",
      "1111101000\n"
     ]
    }
   ],
   "source": [
    "\n",
    "\n",
    "\n",
    "\n"
   ]
  },
  {
   "cell_type": "code",
   "execution_count": 49,
   "metadata": {},
   "outputs": [
    {
     "name": "stdout",
     "output_type": "stream",
     "text": [
      "6498498\n"
     ]
    }
   ],
   "source": [
    "N,K=map(int,input().split())\n",
    "ans=0\n",
    "for red in range(1,N+1):\n",
    "    for blue in range(1,N+1):\n",
    "        temp = K - (red +blue)\n",
    "        if temp <= N and temp>0:\n",
    "            ans+=1\n",
    "\n",
    "\n",
    "print(ans)"
   ]
  },
  {
   "cell_type": "code",
   "execution_count": 60,
   "metadata": {},
   "outputs": [
    {
     "name": "stdout",
     "output_type": "stream",
     "text": [
      "207\n",
      "171\n",
      "310\n"
     ]
    }
   ],
   "source": [
    "N,Q = 15,3\n",
    "A =[62,65,41,13,20,11,18,44,53,12,18,17,14,10,39]\n",
    "L =[4,3,2]\n",
    "R= [13,10,15]\n",
    "s=[0]*N\n",
    "s[0]=A[0]\n",
    "for i in range(1,N,1):\n",
    "    s[i]+=A[i]+s[i-1]\n",
    "\n",
    "for i in range(Q):\n",
    "    left=L[i]\n",
    "    right=R[i\n",
    "    print(s[right-1]-s[left-1])\n",
    "\n"
   ]
  },
  {
   "cell_type": "code",
   "execution_count": 70,
   "metadata": {},
   "outputs": [
    {
     "name": "stdout",
     "output_type": "stream",
     "text": [
      "0.571\n"
     ]
    }
   ],
   "source": [
    "A,B=map(int,input().split())\n",
    "ans=round(B/A,3)\n",
    "print('{:.03f}'.format(ans))\n",
    "\n",
    "\n"
   ]
  },
  {
   "cell_type": "code",
   "execution_count": 72,
   "metadata": {},
   "outputs": [
    {
     "name": "stdout",
     "output_type": "stream",
     "text": [
      "1 0\n",
      "0.000\n",
      "1 1\n",
      "1.000\n",
      "1 2\n",
      "2.000\n",
      "1 3\n",
      "3.000\n",
      "1 4\n",
      "4.000\n",
      "1 5\n",
      "5.000\n",
      "1 6\n",
      "6.000\n",
      "1 7\n",
      "7.000\n",
      "1 8\n",
      "8.000\n",
      "1 9\n",
      "9.000\n",
      "2 0\n",
      "0.000\n",
      "2 1\n",
      "0.500\n",
      "2 2\n",
      "1.000\n",
      "2 3\n",
      "1.500\n",
      "2 4\n",
      "2.000\n",
      "2 5\n",
      "2.500\n",
      "2 6\n",
      "3.000\n",
      "2 7\n",
      "3.500\n",
      "2 8\n",
      "4.000\n",
      "2 9\n",
      "4.500\n",
      "3 0\n",
      "0.000\n",
      "3 1\n",
      "0.333\n",
      "3 2\n",
      "0.667\n",
      "3 3\n",
      "1.000\n",
      "3 4\n",
      "1.333\n",
      "3 5\n",
      "1.667\n",
      "3 6\n",
      "2.000\n",
      "3 7\n",
      "2.333\n",
      "3 8\n",
      "2.667\n",
      "3 9\n",
      "3.000\n",
      "4 0\n",
      "0.000\n",
      "4 1\n",
      "0.250\n",
      "4 2\n",
      "0.500\n",
      "4 3\n",
      "0.750\n",
      "4 4\n",
      "1.000\n",
      "4 5\n",
      "1.250\n",
      "4 6\n",
      "1.500\n",
      "4 7\n",
      "1.750\n",
      "4 8\n",
      "2.000\n",
      "4 9\n",
      "2.250\n",
      "5 0\n",
      "0.000\n",
      "5 1\n",
      "0.200\n",
      "5 2\n",
      "0.400\n",
      "5 3\n",
      "0.600\n",
      "5 4\n",
      "0.800\n",
      "5 5\n",
      "1.000\n",
      "5 6\n",
      "1.200\n",
      "5 7\n",
      "1.400\n",
      "5 8\n",
      "1.600\n",
      "5 9\n",
      "1.800\n",
      "6 0\n",
      "0.000\n",
      "6 1\n",
      "0.167\n",
      "6 2\n",
      "0.333\n",
      "6 3\n",
      "0.500\n",
      "6 4\n",
      "0.667\n",
      "6 5\n",
      "0.833\n",
      "6 6\n",
      "1.000\n",
      "6 7\n",
      "1.167\n",
      "6 8\n",
      "1.333\n",
      "6 9\n",
      "1.500\n",
      "7 0\n",
      "0.000\n",
      "7 1\n",
      "0.143\n",
      "7 2\n",
      "0.286\n",
      "7 3\n",
      "0.429\n",
      "7 4\n",
      "0.571\n",
      "7 5\n",
      "0.714\n",
      "7 6\n",
      "0.857\n",
      "7 7\n",
      "1.000\n",
      "7 8\n",
      "1.143\n",
      "7 9\n",
      "1.286\n",
      "8 0\n",
      "0.000\n",
      "8 1\n",
      "0.125\n",
      "8 2\n",
      "0.250\n",
      "8 3\n",
      "0.375\n",
      "8 4\n",
      "0.500\n",
      "8 5\n",
      "0.625\n",
      "8 6\n",
      "0.750\n",
      "8 7\n",
      "0.875\n",
      "8 8\n",
      "1.000\n",
      "8 9\n",
      "1.125\n",
      "9 0\n",
      "0.000\n",
      "9 1\n",
      "0.111\n",
      "9 2\n",
      "0.222\n",
      "9 3\n",
      "0.333\n",
      "9 4\n",
      "0.444\n",
      "9 5\n",
      "0.556\n",
      "9 6\n",
      "0.667\n",
      "9 7\n",
      "0.778\n",
      "9 8\n",
      "0.889\n",
      "9 9\n",
      "1.000\n"
     ]
    }
   ],
   "source": [
    "\n",
    "for a in range(1,10,1):\n",
    "    for b in range(0,10,1):\n",
    "        print(a,b)\n",
    "        ans=round(b/a,3)\n",
    "        print('{:.03f}'.format(ans))\n",
    "\n",
    "\n"
   ]
  },
  {
   "cell_type": "code",
   "execution_count": 84,
   "metadata": {},
   "outputs": [
    {
     "ename": "KeyboardInterrupt",
     "evalue": "Interrupted by user",
     "output_type": "error",
     "traceback": [
      "\u001b[0;31m---------------------------------------------------------------------------\u001b[0m",
      "\u001b[0;31mKeyboardInterrupt\u001b[0m                         Traceback (most recent call last)",
      "Cell \u001b[0;32mIn [84], line 1\u001b[0m\n\u001b[0;32m----> 1\u001b[0m H,W \u001b[39m=\u001b[39m \u001b[39mmap\u001b[39m(\u001b[39mint\u001b[39m,\u001b[39minput\u001b[39;49m()\u001b[39m.\u001b[39msplit())\n\u001b[1;32m      2\u001b[0m S\u001b[39m=\u001b[39m[ \u001b[39minput\u001b[39m() \u001b[39mfor\u001b[39;00m i \u001b[39min\u001b[39;00m \u001b[39mrange\u001b[39m(H)]\n\u001b[1;32m      4\u001b[0m X\u001b[39m=\u001b[39m[\u001b[39m0\u001b[39m]\u001b[39m*\u001b[39mW\n",
      "File \u001b[0;32m~/.local/lib/python3.10/site-packages/ipykernel/kernelbase.py:1177\u001b[0m, in \u001b[0;36mKernel.raw_input\u001b[0;34m(self, prompt)\u001b[0m\n\u001b[1;32m   1173\u001b[0m \u001b[39mif\u001b[39;00m \u001b[39mnot\u001b[39;00m \u001b[39mself\u001b[39m\u001b[39m.\u001b[39m_allow_stdin:\n\u001b[1;32m   1174\u001b[0m     \u001b[39mraise\u001b[39;00m StdinNotImplementedError(\n\u001b[1;32m   1175\u001b[0m         \u001b[39m\"\u001b[39m\u001b[39mraw_input was called, but this frontend does not support input requests.\u001b[39m\u001b[39m\"\u001b[39m\n\u001b[1;32m   1176\u001b[0m     )\n\u001b[0;32m-> 1177\u001b[0m \u001b[39mreturn\u001b[39;00m \u001b[39mself\u001b[39;49m\u001b[39m.\u001b[39;49m_input_request(\n\u001b[1;32m   1178\u001b[0m     \u001b[39mstr\u001b[39;49m(prompt),\n\u001b[1;32m   1179\u001b[0m     \u001b[39mself\u001b[39;49m\u001b[39m.\u001b[39;49m_parent_ident[\u001b[39m\"\u001b[39;49m\u001b[39mshell\u001b[39;49m\u001b[39m\"\u001b[39;49m],\n\u001b[1;32m   1180\u001b[0m     \u001b[39mself\u001b[39;49m\u001b[39m.\u001b[39;49mget_parent(\u001b[39m\"\u001b[39;49m\u001b[39mshell\u001b[39;49m\u001b[39m\"\u001b[39;49m),\n\u001b[1;32m   1181\u001b[0m     password\u001b[39m=\u001b[39;49m\u001b[39mFalse\u001b[39;49;00m,\n\u001b[1;32m   1182\u001b[0m )\n",
      "File \u001b[0;32m~/.local/lib/python3.10/site-packages/ipykernel/kernelbase.py:1219\u001b[0m, in \u001b[0;36mKernel._input_request\u001b[0;34m(self, prompt, ident, parent, password)\u001b[0m\n\u001b[1;32m   1216\u001b[0m             \u001b[39mbreak\u001b[39;00m\n\u001b[1;32m   1217\u001b[0m \u001b[39mexcept\u001b[39;00m \u001b[39mKeyboardInterrupt\u001b[39;00m:\n\u001b[1;32m   1218\u001b[0m     \u001b[39m# re-raise KeyboardInterrupt, to truncate traceback\u001b[39;00m\n\u001b[0;32m-> 1219\u001b[0m     \u001b[39mraise\u001b[39;00m \u001b[39mKeyboardInterrupt\u001b[39;00m(\u001b[39m\"\u001b[39m\u001b[39mInterrupted by user\u001b[39m\u001b[39m\"\u001b[39m) \u001b[39mfrom\u001b[39;00m \u001b[39mNone\u001b[39m\n\u001b[1;32m   1220\u001b[0m \u001b[39mexcept\u001b[39;00m \u001b[39mException\u001b[39;00m:\n\u001b[1;32m   1221\u001b[0m     \u001b[39mself\u001b[39m\u001b[39m.\u001b[39mlog\u001b[39m.\u001b[39mwarning(\u001b[39m\"\u001b[39m\u001b[39mInvalid Message:\u001b[39m\u001b[39m\"\u001b[39m, exc_info\u001b[39m=\u001b[39m\u001b[39mTrue\u001b[39;00m)\n",
      "\u001b[0;31mKeyboardInterrupt\u001b[0m: Interrupted by user"
     ]
    }
   ],
   "source": [
    "H,W = map(int,input().split())\n",
    "S=[ input() for i in range(H)]\n",
    "\n",
    "X=[0]*W\n",
    "for w in range(W):\n",
    "    for h in range(H):\n",
    "        if S[h][w] == \"#\":\n",
    "            X[w] +=1\n",
    "\n",
    "for i in range(W):\n",
    "    if i<W-1:\n",
    "        print(X[i],end=\" \")\n",
    "    else:\n",
    "        print(X[i],end=\"\")\n",
    "    "
   ]
  },
  {
   "cell_type": "code",
   "execution_count": 77,
   "metadata": {},
   "outputs": [],
   "source": [
    "temp =[0, 5, 1, 2, 2, 0, 0, 5, 3, 3, 3, 3, 0, 0, 1, 1, 3, 1, 1, 0, 0, 5, 3, 3, 3, 3, 0, 0, 5, 1, 1, 1, 5, 0, 0, 3, 2, 2, 2, 2, 0, 0, 5, 3, 3, 3, 3]\n"
   ]
  },
  {
   "cell_type": "code",
   "execution_count": 81,
   "metadata": {},
   "outputs": [],
   "source": [
    "S = map(int,input().split())"
   ]
  },
  {
   "cell_type": "code",
   "execution_count": 79,
   "metadata": {},
   "outputs": [
    {
     "ename": "TypeError",
     "evalue": "object of type 'map' has no len()",
     "output_type": "error",
     "traceback": [
      "\u001b[0;31m---------------------------------------------------------------------------\u001b[0m",
      "\u001b[0;31mTypeError\u001b[0m                                 Traceback (most recent call last)",
      "Cell \u001b[0;32mIn [79], line 1\u001b[0m\n\u001b[0;32m----> 1\u001b[0m \u001b[39mfor\u001b[39;00m i \u001b[39min\u001b[39;00m \u001b[39mrange\u001b[39m(\u001b[39mlen\u001b[39;49m(S)):\n\u001b[1;32m      2\u001b[0m     \u001b[39mif\u001b[39;00m S[i]\u001b[39m==\u001b[39mtemp[i]:\n\u001b[1;32m      3\u001b[0m         \u001b[39mprint\u001b[39m(i)\n",
      "\u001b[0;31mTypeError\u001b[0m: object of type 'map' has no len()"
     ]
    }
   ],
   "source": [
    "for i in range(len(S)):\n",
    "    if S[i]==temp[i]:\n",
    "        print(i)"
   ]
  },
  {
   "cell_type": "code",
   "execution_count": 83,
   "metadata": {},
   "outputs": [
    {
     "ename": "TypeError",
     "evalue": "'map' object is not subscriptable",
     "output_type": "error",
     "traceback": [
      "\u001b[0;31m---------------------------------------------------------------------------\u001b[0m",
      "\u001b[0;31mTypeError\u001b[0m                                 Traceback (most recent call last)",
      "Cell \u001b[0;32mIn [83], line 1\u001b[0m\n\u001b[0;32m----> 1\u001b[0m S[:]\n",
      "\u001b[0;31mTypeError\u001b[0m: 'map' object is not subscriptable"
     ]
    }
   ],
   "source": [
    "S"
   ]
  },
  {
   "cell_type": "markdown",
   "metadata": {},
   "source": [
    "N=2\n",
    "A=2 1\n",
    "\n",
    "観察記録は時系列順に 2 個あり、1($i$)番目の観察記録は「番号 2($A_1$) のアメーバが分裂して消滅し、新たに 2 匹のアメーバが生まれ、それらにそれぞれ 2,4(2$i$+1) と番号をつけた」というものです。\n",
    "このとき、アメーバ Ai​ を アメーバ\n",
    "\n",
    "2i,2i+1 の親と呼びます。\n",
    "\n",
    "各\n",
    "k=1,…,2N+1 について、アメーバ k から何代親を遡るとアメーバ 1 になるか求めてください。"
   ]
  },
  {
   "cell_type": "code",
   "execution_count": 118,
   "metadata": {},
   "outputs": [
    {
     "name": "stdout",
     "output_type": "stream",
     "text": [
      "[0, 1, 1, 0, 0, 0]\n",
      "[0, 1, 1, 0, 0, 0]\n"
     ]
    }
   ],
   "source": [
    "N = int(input())\n",
    "A =map(int,input().split())\n",
    "dp=[0]*(2*N+2)\n",
    "\n",
    "\n",
    "for i in A:\n",
    "    dp[i]=1\n",
    "\n",
    "print(dp[:])\n",
    "\n",
    "# 分裂させる\n",
    "for i in A:\n",
    "    print(\"a\")\n",
    "    dp[2*i] +=dp[i]+1\n",
    "    dp[2*i+1] += dp[i]+1\n",
    "    \n",
    "\n",
    "print(dp[:])\n",
    "\n"
   ]
  },
  {
   "cell_type": "code",
   "execution_count": 135,
   "metadata": {},
   "outputs": [
    {
     "name": "stdout",
     "output_type": "stream",
     "text": [
      "[0, 1, 1, 0, 0, 0]\n",
      "[0, 1, 2, 1, 2, 2]\n"
     ]
    }
   ],
   "source": [
    "N = int(input())\n",
    "A = list(map(int,input().split()))\n",
    "dp=[0]*(2*N+2)\n",
    "\n",
    "# 分裂させる\n",
    "for i in A:\n",
    "    dp[i]+=1\n",
    "print(dp[:])\n",
    "for i in A:\n",
    "    \n",
    "    dp[2*i] +=dp[i]\n",
    "    dp[2*i+1] += dp[i]\n",
    "    \n",
    "\n",
    "print(dp[:])\n",
    "\n"
   ]
  },
  {
   "cell_type": "code",
   "execution_count": 137,
   "metadata": {},
   "outputs": [],
   "source": [
    "N,x,y = map(int,input().split())\n",
    "A = list(map(int,input().split()))\n",
    "\n",
    "px=[0]*(N+1)\n",
    "py=[0]*(N+1)\n",
    "\n",
    "\n",
    "dpx=[0]*(N+1)\n",
    "dpy=[0]*(N+1)\n",
    "# initilize\n",
    "px[1] = A[0]\n",
    "px[1] = 0\n",
    "\n",
    "px[N] = x\n",
    "py[N] = y\n",
    "\n",
    "\n",
    "for i in range(N):\n",
    "    dp[]\n",
    "\n"
   ]
  },
  {
   "cell_type": "code",
   "execution_count": 138,
   "metadata": {},
   "outputs": [
    {
     "data": {
      "text/plain": [
       "2"
      ]
     },
     "execution_count": 138,
     "metadata": {},
     "output_type": "execute_result"
    }
   ],
   "source": []
  },
  {
   "cell_type": "code",
   "execution_count": null,
   "metadata": {},
   "outputs": [],
   "source": [
    "N=int(input())\n"
   ]
  }
 ],
 "metadata": {
  "kernelspec": {
   "display_name": "Python 3.10.4 64-bit",
   "language": "python",
   "name": "python3"
  },
  "language_info": {
   "codemirror_mode": {
    "name": "ipython",
    "version": 3
   },
   "file_extension": ".py",
   "mimetype": "text/x-python",
   "name": "python",
   "nbconvert_exporter": "python",
   "pygments_lexer": "ipython3",
   "version": "3.10.6"
  },
  "orig_nbformat": 4,
  "vscode": {
   "interpreter": {
    "hash": "916dbcbb3f70747c44a77c7bcd40155683ae19c65e1c03b4aa3499c5328201f1"
   }
  }
 },
 "nbformat": 4,
 "nbformat_minor": 2
}
