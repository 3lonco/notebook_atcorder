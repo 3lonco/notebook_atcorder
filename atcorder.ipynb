{
 "cells": [
  {
   "cell_type": "markdown",
   "metadata": {},
   "source": [
    "## 5-6 累積和\n",
    "https://atcoder.jp/contests/abc122/tasks/abc122_c\n",
    "\n",
    "累積和　サイズの配列に対して、次のように定義されるサイズN+1の配列S\n",
    "\n",
    "s[0]=0\n",
    "\n",
    "\n",
    "S[1]=A[0]\n",
    "\n",
    "\n",
    "・\n",
    "・\n",
    "・\n",
    "\n",
    "\n",
    "$S[N]=A[0] \\cdots A[N-1]$\n",
    "\n",
    "最初はゼロにすること\n"
   ]
  },
  {
   "cell_type": "code",
   "execution_count": 1,
   "metadata": {},
   "outputs": [
    {
     "ename": "NameError",
     "evalue": "name 'N' is not defined",
     "output_type": "error",
     "traceback": [
      "\u001b[1;31m---------------------------------------------------------------------------\u001b[0m",
      "\u001b[1;31mNameError\u001b[0m                                 Traceback (most recent call last)",
      "\u001b[1;32m<ipython-input-1-c6a75222f556>\u001b[0m in \u001b[0;36m<module>\u001b[1;34m\u001b[0m\n\u001b[1;32m----> 1\u001b[1;33m \u001b[0mS\u001b[0m \u001b[1;33m=\u001b[0m\u001b[1;33m[\u001b[0m\u001b[1;36m0\u001b[0m\u001b[1;33m]\u001b[0m \u001b[1;33m*\u001b[0m \u001b[1;33m(\u001b[0m\u001b[0mN\u001b[0m\u001b[1;33m+\u001b[0m\u001b[1;36m1\u001b[0m\u001b[1;33m)\u001b[0m\u001b[1;33m\u001b[0m\u001b[1;33m\u001b[0m\u001b[0m\n\u001b[0m\u001b[0;32m      2\u001b[0m \u001b[1;32mfor\u001b[0m \u001b[0mi\u001b[0m \u001b[1;32min\u001b[0m \u001b[0mrange\u001b[0m\u001b[1;33m(\u001b[0m\u001b[0mN\u001b[0m\u001b[1;33m)\u001b[0m\u001b[1;33m:\u001b[0m\u001b[1;33m\u001b[0m\u001b[1;33m\u001b[0m\u001b[0m\n\u001b[0;32m      3\u001b[0m   \u001b[0mS\u001b[0m\u001b[1;33m[\u001b[0m\u001b[0mi\u001b[0m\u001b[1;33m+\u001b[0m\u001b[1;36m1\u001b[0m\u001b[1;33m]\u001b[0m\u001b[1;33m=\u001b[0m\u001b[0mS\u001b[0m\u001b[1;33m[\u001b[0m\u001b[0mi\u001b[0m\u001b[1;33m]\u001b[0m\u001b[1;33m+\u001b[0m\u001b[0mA\u001b[0m\u001b[1;33m[\u001b[0m\u001b[0mi\u001b[0m\u001b[1;33m]\u001b[0m\u001b[1;33m\u001b[0m\u001b[1;33m\u001b[0m\u001b[0m\n",
      "\u001b[1;31mNameError\u001b[0m: name 'N' is not defined"
     ]
    }
   ],
   "source": [
    "S =[0] * (N+1)\n",
    "for i in range(N):\n",
    "  S[i+1]=S[i]+A[i]"
   ]
  },
  {
   "cell_type": "markdown",
   "metadata": {},
   "source": [
    "#### 区間クエリとは\n",
    "整数l,rが与えられたときに[l,r)のそうわを求めよ\n",
    "\n",
    "\n",
    "[l、r)はA[1]からA[r-1]のことをさす\n",
    "これはpython3だと\n",
    "A[l:r]\n",
    "\n",
    "\n",
    "\n",
    "\n"
   ]
  },
  {
   "cell_type": "markdown",
   "metadata": {},
   "source": [
    "### 問題文\n",
    "\n",
    "\n",
    "A, C, G, T からなる長さ N の文字列 S が与えられます。以下の Q 個の問いに答えてください。\n",
    "\n",
    "問 i (1≤i≤Q): 整数 $l_i,r_i$\n",
    "​\n",
    "$  (1≤l_i<r_i≤N) が与えられる。$\n",
    "$  S の先頭から l_i文字目から r_i$\n",
    "​\n",
    "文字目までの (両端含む) 部分文字列を考える。この文字列に AC は部分文字列として何回現れるか。\n",
    "\n",
    "\n",
    "### 注記\n",
    "文字列 T の部分文字列とは、T の先頭と末尾から 0 文字以上を取り去って得られる文字列です。\n",
    "\n",
    "例えば、ATCODER の部分文字列には TCO, AT, CODER, ATCODER, (空文字列) が含まれ、AC は含まれません。\n",
    "\n",
    "### 制約\n",
    "\n",
    "\n",
    "$2≤N≤10^5$\n",
    " \n",
    "$1≤Q≤10^5$\n",
    "\n",
    "\n",
    "S は長さ N の文字列である。\n",
    "\n",
    "\n",
    "S の各文字は A, C, G, T のいずれかである。\n",
    "\n",
    "\n",
    "$1≤l_i<r_i≤N$\n",
    "\n",
    "\n",
    "### 入力\n",
    "N Q\n",
    "\n",
    "\n",
    "S\n",
    "\n",
    "\n",
    "$l_1 r_1$\n",
    "\n",
    "\n",
    "$l_Q r_Q$\n",
    "\n",
    "\n",
    "### 出力\n",
    "Q行を出力。i 行目に問 i への答えを出力すること。\n",
    "\n",
    "\n",
    "### 乳りょっくれい1\n",
    "8 3\n",
    "\n",
    "\n",
    "ACACTACG\n",
    "\n",
    "\n",
    "3 7\n",
    "\n",
    "\n",
    "2 3\n",
    "\n",
    "\n",
    "1 8\n",
    "\n",
    "\n",
    "### 出力〇\n",
    "2\n",
    "0\n",
    "3"
   ]
  },
  {
   "cell_type": "code",
   "execution_count": null,
   "metadata": {},
   "outputs": [],
   "source": []
  },
  {
   "cell_type": "code",
   "execution_count": 20,
   "metadata": {},
   "outputs": [
    {
     "ename": "TypeError",
     "evalue": "'builtin_function_or_method' object is not iterable",
     "output_type": "error",
     "traceback": [
      "\u001b[1;31m---------------------------------------------------------------------------\u001b[0m",
      "\u001b[1;31mTypeError\u001b[0m                                 Traceback (most recent call last)",
      "\u001b[1;32m<ipython-input-20-462730b7d307>\u001b[0m in \u001b[0;36m<module>\u001b[1;34m\u001b[0m\n\u001b[0;32m      6\u001b[0m   \u001b[0mcs\u001b[0m\u001b[1;33m[\u001b[0m\u001b[0mi\u001b[0m\u001b[1;33m+\u001b[0m\u001b[1;36m1\u001b[0m\u001b[1;33m]\u001b[0m\u001b[1;33m=\u001b[0m\u001b[0mcs\u001b[0m\u001b[1;33m[\u001b[0m\u001b[0mi\u001b[0m\u001b[1;33m]\u001b[0m\u001b[1;33m+\u001b[0m\u001b[1;33m(\u001b[0m\u001b[0mS\u001b[0m\u001b[1;33m[\u001b[0m\u001b[0mi\u001b[0m\u001b[1;33m-\u001b[0m\u001b[1;36m1\u001b[0m\u001b[1;33m:\u001b[0m\u001b[0mi\u001b[0m\u001b[1;33m+\u001b[0m\u001b[1;36m1\u001b[0m\u001b[1;33m]\u001b[0m\u001b[1;33m==\u001b[0m\u001b[1;34m\"AC\"\u001b[0m\u001b[1;33m)\u001b[0m\u001b[1;33m\u001b[0m\u001b[1;33m\u001b[0m\u001b[0m\n\u001b[0;32m      7\u001b[0m \u001b[1;33m\u001b[0m\u001b[0m\n\u001b[1;32m----> 8\u001b[1;33m   \u001b[0ml\u001b[0m\u001b[1;33m,\u001b[0m\u001b[0mr\u001b[0m\u001b[1;33m=\u001b[0m\u001b[0mmap\u001b[0m\u001b[1;33m(\u001b[0m\u001b[0mint\u001b[0m\u001b[1;33m,\u001b[0m\u001b[0minput\u001b[0m\u001b[1;33m(\u001b[0m\u001b[1;33m)\u001b[0m\u001b[1;33m.\u001b[0m\u001b[0msplit\u001b[0m\u001b[1;33m)\u001b[0m\u001b[1;33m\u001b[0m\u001b[1;33m\u001b[0m\u001b[0m\n\u001b[0m\u001b[0;32m      9\u001b[0m \u001b[1;33m\u001b[0m\u001b[0m\n",
      "\u001b[1;31mTypeError\u001b[0m: 'builtin_function_or_method' object is not iterable"
     ]
    }
   ],
   "source": [
    "N,Q=map(int,input().split())\n",
    "S=input()\n",
    "\n",
    "cs =[0] * (N+1)\n",
    "for i in range(1,N):\n",
    "  cs[i+1]=cs[i]+(S[i-1:i+1]==\"AC\")\n",
    "\n",
    "for q in range(Q):\n",
    "  l,r =map(int,)\n",
    "l,r=map(int,input().split)\n",
    "\n"
   ]
  },
  {
   "cell_type": "code",
   "execution_count": 36,
   "metadata": {},
   "outputs": [
    {
     "name": "stdout",
     "output_type": "stream",
     "text": [
      "11\n"
     ]
    }
   ],
   "source": [
    "N=int(input())\n",
    "s = list(map(int,input().split()))\n",
    "\n",
    "sum=0\n",
    "for i in s:\n",
    "  sum +=i\n",
    "print(sum)"
   ]
  },
  {
   "cell_type": "code",
   "execution_count": 34,
   "metadata": {},
   "outputs": [
    {
     "ename": "TypeError",
     "evalue": "unsupported operand type(s) for +=: 'builtin_function_or_method' and 'list'",
     "output_type": "error",
     "traceback": [
      "\u001b[1;31m---------------------------------------------------------------------------\u001b[0m",
      "\u001b[1;31mTypeError\u001b[0m                                 Traceback (most recent call last)",
      "\u001b[1;32m<ipython-input-34-6f3f16c938b6>\u001b[0m in \u001b[0;36m<module>\u001b[1;34m\u001b[0m\n\u001b[1;32m----> 1\u001b[1;33m \u001b[0msum\u001b[0m\u001b[1;33m+=\u001b[0m\u001b[0ms\u001b[0m\u001b[1;33m[\u001b[0m\u001b[1;33m:\u001b[0m\u001b[1;33m]\u001b[0m\u001b[1;33m\u001b[0m\u001b[1;33m\u001b[0m\u001b[0m\n\u001b[0m",
      "\u001b[1;31mTypeError\u001b[0m: unsupported operand type(s) for +=: 'builtin_function_or_method' and 'list'"
     ]
    }
   ],
   "source": []
  },
  {
   "cell_type": "code",
   "execution_count": 63,
   "metadata": {},
   "outputs": [
    {
     "name": "stdout",
     "output_type": "stream",
     "text": [
      "FF\n"
     ]
    }
   ],
   "source": [
    "N=int(input())\n",
    "s=hex(N)\n",
    "if N<16:\n",
    "  print('0'+s[-1].upper())\n",
    "else:\n",
    "  print(s[2:4].upper())\n",
    "  "
   ]
  },
  {
   "cell_type": "markdown",
   "metadata": {},
   "source": []
  },
  {
   "cell_type": "code",
   "execution_count": 129,
   "metadata": {},
   "outputs": [
    {
     "name": "stdout",
     "output_type": "stream",
     "text": [
      "2\n",
      "3\n",
      "4\n",
      "5\n",
      "8\n"
     ]
    }
   ],
   "source": [
    "N=int(input())\n",
    "A=map(int,input().split())\n",
    "\n",
    "e_1=0\n",
    "e_2=0\n",
    "\n",
    "o_1=0\n",
    "o_2=0\n",
    "\n",
    "flag=False\n",
    "for i in A:\n",
    "  print(i)\n",
    "  #if A[i] is even\n",
    "  if i%2==0:\n",
    "    if i>=e_1:\n",
    "      e_2=e_1\n",
    "      e_1=i\n",
    "    elif i>=e_2:\n",
    "      e_2=i\n",
    "  \n",
    "  else:\n",
    "    if i>=o_1:\n",
    "      o_2=o_1\n",
    "      o_1=i\n",
    "    elif i>=o_2:\n",
    "      o_2=i\n",
    "  \n",
    "if(o_2==0 and e_2==0):\n",
    "  print(-1)\n",
    "else:\n",
    "  ans = max(e_1+e_2,o_1+o_2)\n",
    "  print(ans)  \n",
    "\n"
   ]
  },
  {
   "cell_type": "markdown",
   "metadata": {},
   "source": [
    "# Example 06 Shift Only\n",
    "https://atcoder.jp/contests/abc081/tasks/abc081_b\n",
    "\n",
    "## 問題文\n",
    "黒板に N 個の正の整数 A \n",
    "\n",
    "\n",
    "$1,...,A_N$\n",
    "​\n",
    "  が書かれています．\n",
    "\n",
    "すぬけ君は，黒板に書かれている整数がすべて偶数であるとき，次の操作を行うことができます．\n",
    "\n",
    "黒板に書かれている整数すべてを，2 で割ったものに置き換える．\n",
    "すぬけ君は最大で何回操作を行うことができるかを求めてください．\n",
    "\n",
    "制約\n",
    "$1≤N≤200$\n",
    "\n",
    "\n",
    "$1≤A_i≤10^9$\n",
    "\n",
    "\n",
    "## 入力\n",
    "入力は以下の形式で標準入力から与えられる。\n",
    "\n",
    "\n",
    "\n",
    "$N$\n",
    "\n",
    "\n",
    "$A_1 A2... A_N$\n",
    "\n",
    "##  出力\n",
    "すぬけ君は最大で何回操作を行うことができるかを出力せよ．\n",
    "\n",
    "## 入力例\n",
    "3\n",
    "\n",
    "8 12 40\n",
    "\n",
    "​\n",
    "\n",
    "## 出力零1\n",
    "2\n",
    "\n",
    "\n",
    "最初，黒板には [8,12,40] が書かれています． このとき，書かれている整数はすべて偶数なので，操作を行うことができます．\n",
    "\n",
    "1 回操作を行った後，黒板には [4,6,20] が書かれています． 再び，書かれている整数はすべて偶数なので，操作を行うことができます．\n",
    "\n",
    "2 回操作を行った後，黒板には [2,3,10] が書かれています． この時，奇数 3 が書かれているため，これ以上操作を行うことはできません．\n",
    "\n",
    "よって，すぬけ君は最大で 2 回操作を行うことができます．\n",
    "\n",
    "\n",
    "\n",
    " \n"
   ]
  },
  {
   "cell_type": "code",
   "execution_count": 7,
   "metadata": {},
   "outputs": [
    {
     "name": "stdout",
     "output_type": "stream",
     "text": [
      "8\n"
     ]
    }
   ],
   "source": [
    "N=int(input())\n",
    "A=list(map(int,input().split()))\n",
    "\n",
    "cnt=0\n",
    "flag=True\n",
    "while flag==True:\n",
    "  for i in range(N):\n",
    "    if A[i]%2==0:\n",
    "      A[i]/=2\n",
    "    else:\n",
    "      flag=False\n",
    "      break\n",
    "\n",
    "  if flag==True:\n",
    "    cnt+=1\n",
    "\n",
    "print(cnt)  \n",
    "\n"
   ]
  },
  {
   "cell_type": "code",
   "execution_count": 2,
   "metadata": {},
   "outputs": [
    {
     "data": {
      "text/plain": [
       "[2.0, 6.0, 20.0]"
      ]
     },
     "execution_count": 2,
     "metadata": {},
     "output_type": "execute_result"
    }
   ],
   "source": [
    "A"
   ]
  },
  {
   "cell_type": "code",
   "execution_count": null,
   "metadata": {},
   "outputs": [],
   "source": []
  }
 ],
 "metadata": {
  "kernelspec": {
   "display_name": "Python 3.8.10 64-bit (microsoft store)",
   "language": "python",
   "name": "python3"
  },
  "language_info": {
   "codemirror_mode": {
    "name": "ipython",
    "version": 3
   },
   "file_extension": ".py",
   "mimetype": "text/x-python",
   "name": "python",
   "nbconvert_exporter": "python",
   "pygments_lexer": "ipython3",
   "version": "3.8.10"
  },
  "orig_nbformat": 4,
  "vscode": {
   "interpreter": {
    "hash": "71772156d6d262da57445e4f3782064f83fce1c6f275c7dac2dfabc23d7f933d"
   }
  }
 },
 "nbformat": 4,
 "nbformat_minor": 2
}
